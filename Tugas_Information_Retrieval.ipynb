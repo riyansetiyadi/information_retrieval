{
  "nbformat": 4,
  "nbformat_minor": 0,
  "metadata": {
    "colab": {
      "provenance": [],
      "collapsed_sections": [],
      "include_colab_link": true
    },
    "kernelspec": {
      "name": "python3",
      "display_name": "Python 3"
    },
    "language_info": {
      "name": "python"
    }
  },
  "cells": [
    {
      "cell_type": "markdown",
      "metadata": {
        "id": "view-in-github",
        "colab_type": "text"
      },
      "source": [
        "<a href=\"https://colab.research.google.com/github/riyansetiyadi/information_retrieval/blob/main/Tugas_Information_Retrieval.ipynb\" target=\"_parent\"><img src=\"https://colab.research.google.com/assets/colab-badge.svg\" alt=\"Open In Colab\"/></a>"
      ]
    },
    {
      "cell_type": "markdown",
      "source": [
        "# Dokumen"
      ],
      "metadata": {
        "id": "UEV3hMl8KWc9"
      }
    },
    {
      "cell_type": "code",
      "execution_count": null,
      "metadata": {
        "colab": {
          "base_uri": "https://localhost:8080/"
        },
        "id": "c9YG5v2kKFW6",
        "outputId": "c4240a9d-77ca-4252-fd5e-f128a99c04c7"
      },
      "outputs": [
        {
          "output_type": "execute_result",
          "data": {
            "text/plain": [
              "['mahasiswa fasilkom universitas jember adalah mahasiswa hebat',\n",
              " 'universitas jember memiliki 30.000 mahasiswa',\n",
              " 'saat ini fasilkom universitas jember memiliki tiga prodi',\n",
              " 'prodi pertama fasilkom universitas jember saat ini adalah prodi sistem informasi']"
            ]
          },
          "metadata": {},
          "execution_count": 1
        }
      ],
      "source": [
        "obj1 = \"mahasiswa fasilkom universitas jember adalah mahasiswa hebat\"\n",
        "obj2 = \"universitas jember memiliki 30.000 mahasiswa\"\n",
        "obj3 = \"saat ini fasilkom universitas jember memiliki tiga prodi\"\n",
        "obj4 = \"prodi pertama fasilkom universitas jember saat ini adalah prodi sistem informasi\"\n",
        "\n",
        "daftarObj = [obj1, obj2, obj3, obj4]\n",
        "daftarObj"
      ]
    },
    {
      "cell_type": "code",
      "source": [
        "obj1 = \"mahasiswa fasilkom universitas jember adalah mahasiswa hebat. mahasiswa fasilkom universitas jember banyak memenangkan turnamen baik akademik maupun non akademik. mulai tahun pertama, mahasiswa fasilkom universitas jember telah menunjukkan semangat untuk maju yang sangat tinggi\"\n",
        "obj2 = \"prodi pertama fasilkom universitas jember adalah prodi sistem informasi. prodi sistem informasi fasilkom universitas jember mulai menerima mahasiswa pada tahun 2009. prodi  sistem informasi fasilkom universitas jember berdiri sebagai prodi setara fakultas, sehingga prodi sistem informasi ini tidak berada di bawah fakultas manapun saat itu\"\n",
        "obj3 = \"prodi informatika fasilkom universitas jember memiliki matakuliah pilihan yang bernama STKI. matakuliah STKI ditawarkan untuk mahasiswa yang ingin mempelajari metode pencarian informasi dari sekumpulan dokumen teks yang merupakan data tidak terstruktur. matakuliah STKI ditawarkan pada semester 6. Saat ini matakuliah STKI ditempuh 24 mahasiswa\"\n",
        "\n",
        "daftarObj = [obj1, obj2, obj3]\n",
        "daftarObj"
      ],
      "metadata": {
        "colab": {
          "base_uri": "https://localhost:8080/"
        },
        "id": "YYUhLFLhzX9K",
        "outputId": "5c6aa8ae-6d8f-43bb-9a56-9bd660ae07b6"
      },
      "execution_count": null,
      "outputs": [
        {
          "output_type": "execute_result",
          "data": {
            "text/plain": [
              "['mahasiswa fasilkom universitas jember adalah mahasiswa hebat. mahasiswa fasilkom universitas jember banyak memenangkan turnamen baik akademik maupun non akademik. mulai tahun pertama, mahasiswa fasilkom universitas jember telah menunjukkan semangat untuk maju yang sangat tinggi',\n",
              " 'prodi pertama fasilkom universitas jember adalah prodi sistem informasi. prodi sistem informasi fasilkom universitas jember mulai menerima mahasiswa pada tahun 2009. prodi  sistem informasi fasilkom universitas jember berdiri sebagai prodi setara fakultas, sehingga prodi sistem informasi ini tidak berada di bawah fakultas manapun saat itu',\n",
              " 'prodi informatika fasilkom universitas jember memiliki matakuliah pilihan yang bernama STKI. matakuliah STKI ditawarkan untuk mahasiswa yang ingin mempelajari metode pencarian informasi dari sekumpulan dokumen teks yang merupakan data tidak terstruktur. matakuliah STKI ditawarkan pada semester 6. Saat ini matakuliah STKI ditempuh 24 mahasiswa']"
            ]
          },
          "metadata": {},
          "execution_count": 2
        }
      ]
    },
    {
      "cell_type": "markdown",
      "source": [
        "# Split fitur"
      ],
      "metadata": {
        "id": "aHZBLMFz2bY9"
      }
    },
    {
      "cell_type": "code",
      "source": [
        "def cariFitur(daftarObj):\n",
        "  fitur = []\n",
        "  for obj in daftarObj:\n",
        "    fitur.append(obj.split()) #mengubah string menjadi list dengan pemisah spasi\n",
        "\n",
        "  print(\"Representasi obyek\")\n",
        "  for i in range(1, len(fitur)+1):\n",
        "    print(f\"obj {i} -> D {i} = {fitur[i-1]}\")\n",
        "\n",
        "  return fitur\n",
        "\n",
        "fitur = cariFitur(daftarObj)"
      ],
      "metadata": {
        "colab": {
          "base_uri": "https://localhost:8080/"
        },
        "id": "b3FSDAPbLQNg",
        "outputId": "04dcf8ba-6e3e-41ce-b4a6-a86fea2d35f8"
      },
      "execution_count": null,
      "outputs": [
        {
          "output_type": "stream",
          "name": "stdout",
          "text": [
            "Representasi obyek\n",
            "obj 1 -> D 1 = ['mahasiswa', 'fasilkom', 'universitas', 'jember', 'adalah', 'mahasiswa', 'hebat.', 'mahasiswa', 'fasilkom', 'universitas', 'jember', 'banyak', 'memenangkan', 'turnamen', 'baik', 'akademik', 'maupun', 'non', 'akademik.', 'mulai', 'tahun', 'pertama,', 'mahasiswa', 'fasilkom', 'universitas', 'jember', 'telah', 'menunjukkan', 'semangat', 'untuk', 'maju', 'yang', 'sangat', 'tinggi']\n",
            "obj 2 -> D 2 = ['prodi', 'pertama', 'fasilkom', 'universitas', 'jember', 'adalah', 'prodi', 'sistem', 'informasi.', 'prodi', 'sistem', 'informasi', 'fasilkom', 'universitas', 'jember', 'mulai', 'menerima', 'mahasiswa', 'pada', 'tahun', '2009.', 'prodi', 'sistem', 'informasi', 'fasilkom', 'universitas', 'jember', 'berdiri', 'sebagai', 'prodi', 'setara', 'fakultas,', 'sehingga', 'prodi', 'sistem', 'informasi', 'ini', 'tidak', 'berada', 'di', 'bawah', 'fakultas', 'manapun', 'saat', 'itu']\n",
            "obj 3 -> D 3 = ['prodi', 'informatika', 'fasilkom', 'universitas', 'jember', 'memiliki', 'matakuliah', 'pilihan', 'yang', 'bernama', 'STKI.', 'matakuliah', 'STKI', 'ditawarkan', 'untuk', 'mahasiswa', 'yang', 'ingin', 'mempelajari', 'metode', 'pencarian', 'informasi', 'dari', 'sekumpulan', 'dokumen', 'teks', 'yang', 'merupakan', 'data', 'tidak', 'terstruktur.', 'matakuliah', 'STKI', 'ditawarkan', 'pada', 'semester', '6.', 'Saat', 'ini', 'matakuliah', 'STKI', 'ditempuh', '24', 'mahasiswa']\n"
          ]
        }
      ]
    },
    {
      "cell_type": "markdown",
      "source": [
        "# Mencari Kata Unik"
      ],
      "metadata": {
        "id": "8i2rAy3b2fHv"
      }
    },
    {
      "cell_type": "code",
      "source": [
        "def cariKataUnik(fitur):\n",
        "  result = sum(fitur, []) #menggabungkan beberapa list menjadi satu list\n",
        "  daftarKataUnik = set(result) #mengubah tipe data list ke set, sekaligus mengeliminasi duplikat kata\n",
        "  return daftarKataUnik\n",
        "\n",
        "daftarKataUnik = cariKataUnik(fitur)\n",
        "daftarKataUnik"
      ],
      "metadata": {
        "colab": {
          "base_uri": "https://localhost:8080/"
        },
        "id": "pnG9589RMhRv",
        "outputId": "93d3d85a-67a9-4687-f477-bd7899cee9dd"
      },
      "execution_count": null,
      "outputs": [
        {
          "output_type": "execute_result",
          "data": {
            "text/plain": [
              "{'2009.',\n",
              " '24',\n",
              " '6.',\n",
              " 'STKI',\n",
              " 'STKI.',\n",
              " 'Saat',\n",
              " 'adalah',\n",
              " 'akademik',\n",
              " 'akademik.',\n",
              " 'baik',\n",
              " 'banyak',\n",
              " 'bawah',\n",
              " 'berada',\n",
              " 'berdiri',\n",
              " 'bernama',\n",
              " 'dari',\n",
              " 'data',\n",
              " 'di',\n",
              " 'ditawarkan',\n",
              " 'ditempuh',\n",
              " 'dokumen',\n",
              " 'fakultas',\n",
              " 'fakultas,',\n",
              " 'fasilkom',\n",
              " 'hebat.',\n",
              " 'informasi',\n",
              " 'informasi.',\n",
              " 'informatika',\n",
              " 'ingin',\n",
              " 'ini',\n",
              " 'itu',\n",
              " 'jember',\n",
              " 'mahasiswa',\n",
              " 'maju',\n",
              " 'manapun',\n",
              " 'matakuliah',\n",
              " 'maupun',\n",
              " 'memenangkan',\n",
              " 'memiliki',\n",
              " 'mempelajari',\n",
              " 'menerima',\n",
              " 'menunjukkan',\n",
              " 'merupakan',\n",
              " 'metode',\n",
              " 'mulai',\n",
              " 'non',\n",
              " 'pada',\n",
              " 'pencarian',\n",
              " 'pertama',\n",
              " 'pertama,',\n",
              " 'pilihan',\n",
              " 'prodi',\n",
              " 'saat',\n",
              " 'sangat',\n",
              " 'sebagai',\n",
              " 'sehingga',\n",
              " 'sekumpulan',\n",
              " 'semangat',\n",
              " 'semester',\n",
              " 'setara',\n",
              " 'sistem',\n",
              " 'tahun',\n",
              " 'teks',\n",
              " 'telah',\n",
              " 'terstruktur.',\n",
              " 'tidak',\n",
              " 'tinggi',\n",
              " 'turnamen',\n",
              " 'universitas',\n",
              " 'untuk',\n",
              " 'yang'}"
            ]
          },
          "metadata": {},
          "execution_count": 4
        }
      ]
    },
    {
      "cell_type": "markdown",
      "source": [
        "# Bag Of Word"
      ],
      "metadata": {
        "id": "1uxVJUn12hb4"
      }
    },
    {
      "cell_type": "code",
      "source": [
        "def bagOfWord(daftarKataUnik, daftarObj):\n",
        "  bag_of_word = {}\n",
        "  for kataUnik in daftarKataUnik: #perulangan semua kata unik\n",
        "    bag_of_word[kataUnik] = set() #menyiapkan key berdasarkan kata unik dengan isinya set kosong\n",
        "    for objIndex in range(len(daftarObj)): #perulangan semua daftar objek/dokumen berdasarkan index\n",
        "      if kataUnik in daftarObj[objIndex]: #jika kata unik ada di dalam objek/dokumen\n",
        "        bag_of_word[kataUnik].add(objIndex+1) #menambah index objek/dokumen sesuai kata unik\n",
        "  #print(bag_of_word)\n",
        "  return bag_of_word\n",
        "\n",
        "bag_of_word = bagOfWord(daftarKataUnik, daftarObj)\n",
        "bag_of_word"
      ],
      "metadata": {
        "colab": {
          "base_uri": "https://localhost:8080/"
        },
        "id": "8zKakSMjMiV0",
        "outputId": "207a3f10-76ad-43ff-830c-369e53202e2f"
      },
      "execution_count": null,
      "outputs": [
        {
          "output_type": "execute_result",
          "data": {
            "text/plain": [
              "{'baik': {1},\n",
              " 'informatika': {3},\n",
              " 'ditempuh': {3},\n",
              " 'saat': {2},\n",
              " 'fakultas': {2},\n",
              " 'semester': {3},\n",
              " '2009.': {2},\n",
              " 'STKI.': {3},\n",
              " 'adalah': {1, 2},\n",
              " 'fakultas,': {2},\n",
              " 'STKI': {3},\n",
              " 'fasilkom': {1, 2, 3},\n",
              " 'matakuliah': {3},\n",
              " 'semangat': {1},\n",
              " 'jember': {1, 2, 3},\n",
              " 'mahasiswa': {1, 2, 3},\n",
              " 'bawah': {2},\n",
              " 'pada': {2, 3},\n",
              " 'sangat': {1},\n",
              " 'universitas': {1, 2, 3},\n",
              " '24': {3},\n",
              " 'untuk': {1, 3},\n",
              " 'maju': {1},\n",
              " 'memenangkan': {1},\n",
              " 'akademik.': {1},\n",
              " 'mulai': {1, 2},\n",
              " 'sehingga': {2},\n",
              " 'prodi': {2, 3},\n",
              " 'setara': {2},\n",
              " 'manapun': {2},\n",
              " 'pilihan': {3},\n",
              " 'dokumen': {3},\n",
              " 'memiliki': {3},\n",
              " 'pencarian': {3},\n",
              " 'yang': {1, 3},\n",
              " 'turnamen': {1},\n",
              " 'pertama': {1, 2},\n",
              " 'ini': {2, 3},\n",
              " 'informasi.': {2},\n",
              " 'non': {1},\n",
              " 'ingin': {3},\n",
              " 'menerima': {2},\n",
              " 'data': {3},\n",
              " 'terstruktur.': {3},\n",
              " 'sebagai': {2},\n",
              " '6.': {3},\n",
              " 'sekumpulan': {3},\n",
              " 'pertama,': {1},\n",
              " 'maupun': {1},\n",
              " 'tahun': {1, 2},\n",
              " 'akademik': {1},\n",
              " 'hebat.': {1},\n",
              " 'informasi': {2, 3},\n",
              " 'itu': {2},\n",
              " 'ditawarkan': {3},\n",
              " 'banyak': {1},\n",
              " 'tidak': {2, 3},\n",
              " 'merupakan': {3},\n",
              " 'berdiri': {2},\n",
              " 'sistem': {2},\n",
              " 'teks': {3},\n",
              " 'menunjukkan': {1},\n",
              " 'Saat': {3},\n",
              " 'berada': {2},\n",
              " 'telah': {1},\n",
              " 'di': {2, 3},\n",
              " 'bernama': {3},\n",
              " 'tinggi': {1},\n",
              " 'mempelajari': {3},\n",
              " 'metode': {3},\n",
              " 'dari': {3}}"
            ]
          },
          "metadata": {},
          "execution_count": 5
        }
      ]
    },
    {
      "cell_type": "markdown",
      "source": [
        "# Query"
      ],
      "metadata": {
        "id": "CNxV1Kwm2nO5"
      }
    },
    {
      "cell_type": "code",
      "source": [
        "\n",
        "print(\"Membangun Query\")\n",
        "print(\"---------------\")\n",
        "query = input(\"Ketik yang anda cari: \").lower()\n",
        "theta = query.split(\" \") # memisahkan teks berdasarkan spasi\n",
        "print(f\"Theta: {theta}\")"
      ],
      "metadata": {
        "id": "uDMuT5gBSd-r",
        "colab": {
          "base_uri": "https://localhost:8080/"
        },
        "outputId": "bebdf501-9c89-4916-f5a5-b618623450c1"
      },
      "execution_count": null,
      "outputs": [
        {
          "output_type": "stream",
          "name": "stdout",
          "text": [
            "Membangun Query\n",
            "---------------\n",
            "Ketik yang anda cari: prodi fasilkom\n",
            "Theta: ['prodi', 'fasilkom']\n"
          ]
        }
      ]
    },
    {
      "cell_type": "code",
      "source": [
        "print(\"Dokumen yang sesuai dengan query\")\n",
        "print(\"--------------------------------\")\n",
        "for i in range(len(theta)):\n",
        "  print(f\"{theta[i]} (S {i+1}): {bag_of_word[theta[i]]}\")"
      ],
      "metadata": {
        "id": "c600V0LpyXbc",
        "colab": {
          "base_uri": "https://localhost:8080/"
        },
        "outputId": "4ef28156-78a3-4c91-82c6-fe1823159dda"
      },
      "execution_count": null,
      "outputs": [
        {
          "output_type": "stream",
          "name": "stdout",
          "text": [
            "Dokumen yang sesuai dengan query\n",
            "--------------------------------\n",
            "prodi (S 1): {2, 3}\n",
            "fasilkom (S 2): {1, 2, 3}\n"
          ]
        }
      ]
    },
    {
      "cell_type": "markdown",
      "source": [
        "#Frekuensi Kata"
      ],
      "metadata": {
        "id": "VHEKocH9RXP9"
      }
    },
    {
      "cell_type": "code",
      "source": [
        "def countFrek(daftarKataUnik, dok):\n",
        "  dokFrek = {}\n",
        "  for term in daftarKataUnik:\n",
        "    dokFrek[term] = dok.count(term)\n",
        "  return dokFrek"
      ],
      "metadata": {
        "id": "9t6mhl6ew7Lq"
      },
      "execution_count": null,
      "outputs": []
    },
    {
      "cell_type": "markdown",
      "source": [
        "##Frekuensi Kata pada Dokumen"
      ],
      "metadata": {
        "id": "Dsoo8xDaqfeu"
      }
    },
    {
      "cell_type": "code",
      "source": [
        "daftarDokFrek = []\n",
        "for dok in daftarObj:\n",
        "  dokFrek = countFrek(daftarKataUnik, dok)\n",
        "  daftarDokFrek.append(dokFrek)\n",
        "\n",
        "daftarDokFrek"
      ],
      "metadata": {
        "colab": {
          "base_uri": "https://localhost:8080/"
        },
        "id": "XP-JGYAGRbMN",
        "outputId": "6688e548-0e85-4561-eab4-c6e67ffb8d83"
      },
      "execution_count": null,
      "outputs": [
        {
          "output_type": "execute_result",
          "data": {
            "text/plain": [
              "[{'baik': 1,\n",
              "  'informatika': 0,\n",
              "  'ditempuh': 0,\n",
              "  'saat': 0,\n",
              "  'fakultas': 0,\n",
              "  'semester': 0,\n",
              "  '2009.': 0,\n",
              "  'STKI.': 0,\n",
              "  'adalah': 1,\n",
              "  'fakultas,': 0,\n",
              "  'STKI': 0,\n",
              "  'fasilkom': 3,\n",
              "  'matakuliah': 0,\n",
              "  'semangat': 1,\n",
              "  'jember': 3,\n",
              "  'mahasiswa': 4,\n",
              "  'bawah': 0,\n",
              "  'pada': 0,\n",
              "  'sangat': 1,\n",
              "  'universitas': 3,\n",
              "  '24': 0,\n",
              "  'untuk': 1,\n",
              "  'maju': 1,\n",
              "  'memenangkan': 1,\n",
              "  'akademik.': 1,\n",
              "  'mulai': 1,\n",
              "  'sehingga': 0,\n",
              "  'prodi': 0,\n",
              "  'setara': 0,\n",
              "  'manapun': 0,\n",
              "  'pilihan': 0,\n",
              "  'dokumen': 0,\n",
              "  'memiliki': 0,\n",
              "  'pencarian': 0,\n",
              "  'yang': 1,\n",
              "  'turnamen': 1,\n",
              "  'pertama': 1,\n",
              "  'ini': 0,\n",
              "  'informasi.': 0,\n",
              "  'non': 1,\n",
              "  'ingin': 0,\n",
              "  'menerima': 0,\n",
              "  'data': 0,\n",
              "  'terstruktur.': 0,\n",
              "  'sebagai': 0,\n",
              "  '6.': 0,\n",
              "  'sekumpulan': 0,\n",
              "  'pertama,': 1,\n",
              "  'maupun': 1,\n",
              "  'tahun': 1,\n",
              "  'akademik': 2,\n",
              "  'hebat.': 1,\n",
              "  'informasi': 0,\n",
              "  'itu': 0,\n",
              "  'ditawarkan': 0,\n",
              "  'banyak': 1,\n",
              "  'tidak': 0,\n",
              "  'merupakan': 0,\n",
              "  'berdiri': 0,\n",
              "  'sistem': 0,\n",
              "  'teks': 0,\n",
              "  'menunjukkan': 1,\n",
              "  'Saat': 0,\n",
              "  'berada': 0,\n",
              "  'telah': 1,\n",
              "  'di': 0,\n",
              "  'bernama': 0,\n",
              "  'tinggi': 1,\n",
              "  'mempelajari': 0,\n",
              "  'metode': 0,\n",
              "  'dari': 0},\n",
              " {'baik': 0,\n",
              "  'informatika': 0,\n",
              "  'ditempuh': 0,\n",
              "  'saat': 1,\n",
              "  'fakultas': 2,\n",
              "  'semester': 0,\n",
              "  '2009.': 1,\n",
              "  'STKI.': 0,\n",
              "  'adalah': 1,\n",
              "  'fakultas,': 1,\n",
              "  'STKI': 0,\n",
              "  'fasilkom': 3,\n",
              "  'matakuliah': 0,\n",
              "  'semangat': 0,\n",
              "  'jember': 3,\n",
              "  'mahasiswa': 1,\n",
              "  'bawah': 1,\n",
              "  'pada': 1,\n",
              "  'sangat': 0,\n",
              "  'universitas': 3,\n",
              "  '24': 0,\n",
              "  'untuk': 0,\n",
              "  'maju': 0,\n",
              "  'memenangkan': 0,\n",
              "  'akademik.': 0,\n",
              "  'mulai': 1,\n",
              "  'sehingga': 1,\n",
              "  'prodi': 6,\n",
              "  'setara': 1,\n",
              "  'manapun': 1,\n",
              "  'pilihan': 0,\n",
              "  'dokumen': 0,\n",
              "  'memiliki': 0,\n",
              "  'pencarian': 0,\n",
              "  'yang': 0,\n",
              "  'turnamen': 0,\n",
              "  'pertama': 1,\n",
              "  'ini': 1,\n",
              "  'informasi.': 1,\n",
              "  'non': 0,\n",
              "  'ingin': 0,\n",
              "  'menerima': 1,\n",
              "  'data': 0,\n",
              "  'terstruktur.': 0,\n",
              "  'sebagai': 1,\n",
              "  '6.': 0,\n",
              "  'sekumpulan': 0,\n",
              "  'pertama,': 0,\n",
              "  'maupun': 0,\n",
              "  'tahun': 1,\n",
              "  'akademik': 0,\n",
              "  'hebat.': 0,\n",
              "  'informasi': 4,\n",
              "  'itu': 1,\n",
              "  'ditawarkan': 0,\n",
              "  'banyak': 0,\n",
              "  'tidak': 1,\n",
              "  'merupakan': 0,\n",
              "  'berdiri': 1,\n",
              "  'sistem': 4,\n",
              "  'teks': 0,\n",
              "  'menunjukkan': 0,\n",
              "  'Saat': 0,\n",
              "  'berada': 1,\n",
              "  'telah': 0,\n",
              "  'di': 8,\n",
              "  'bernama': 0,\n",
              "  'tinggi': 0,\n",
              "  'mempelajari': 0,\n",
              "  'metode': 0,\n",
              "  'dari': 0},\n",
              " {'baik': 0,\n",
              "  'informatika': 1,\n",
              "  'ditempuh': 1,\n",
              "  'saat': 0,\n",
              "  'fakultas': 0,\n",
              "  'semester': 1,\n",
              "  '2009.': 0,\n",
              "  'STKI.': 1,\n",
              "  'adalah': 0,\n",
              "  'fakultas,': 0,\n",
              "  'STKI': 4,\n",
              "  'fasilkom': 1,\n",
              "  'matakuliah': 4,\n",
              "  'semangat': 0,\n",
              "  'jember': 1,\n",
              "  'mahasiswa': 2,\n",
              "  'bawah': 0,\n",
              "  'pada': 1,\n",
              "  'sangat': 0,\n",
              "  'universitas': 1,\n",
              "  '24': 1,\n",
              "  'untuk': 1,\n",
              "  'maju': 0,\n",
              "  'memenangkan': 0,\n",
              "  'akademik.': 0,\n",
              "  'mulai': 0,\n",
              "  'sehingga': 0,\n",
              "  'prodi': 1,\n",
              "  'setara': 0,\n",
              "  'manapun': 0,\n",
              "  'pilihan': 1,\n",
              "  'dokumen': 1,\n",
              "  'memiliki': 1,\n",
              "  'pencarian': 1,\n",
              "  'yang': 3,\n",
              "  'turnamen': 0,\n",
              "  'pertama': 0,\n",
              "  'ini': 1,\n",
              "  'informasi.': 0,\n",
              "  'non': 0,\n",
              "  'ingin': 1,\n",
              "  'menerima': 0,\n",
              "  'data': 1,\n",
              "  'terstruktur.': 1,\n",
              "  'sebagai': 0,\n",
              "  '6.': 1,\n",
              "  'sekumpulan': 1,\n",
              "  'pertama,': 0,\n",
              "  'maupun': 0,\n",
              "  'tahun': 0,\n",
              "  'akademik': 0,\n",
              "  'hebat.': 0,\n",
              "  'informasi': 1,\n",
              "  'itu': 0,\n",
              "  'ditawarkan': 2,\n",
              "  'banyak': 0,\n",
              "  'tidak': 1,\n",
              "  'merupakan': 1,\n",
              "  'berdiri': 0,\n",
              "  'sistem': 0,\n",
              "  'teks': 1,\n",
              "  'menunjukkan': 0,\n",
              "  'Saat': 1,\n",
              "  'berada': 0,\n",
              "  'telah': 0,\n",
              "  'di': 4,\n",
              "  'bernama': 1,\n",
              "  'tinggi': 0,\n",
              "  'mempelajari': 1,\n",
              "  'metode': 1,\n",
              "  'dari': 1}]"
            ]
          },
          "metadata": {},
          "execution_count": 9
        }
      ]
    },
    {
      "cell_type": "markdown",
      "source": [
        "##Frekuensi Kata pada Query"
      ],
      "metadata": {
        "id": "_jSOQLOEqm3d"
      }
    },
    {
      "cell_type": "code",
      "source": [
        "queryFrek = countFrek(daftarKataUnik, theta)\n",
        "queryFrek"
      ],
      "metadata": {
        "colab": {
          "base_uri": "https://localhost:8080/"
        },
        "id": "BC06xVNpqq2M",
        "outputId": "73b7aa42-29d0-458e-ee1e-1b14170c0f63"
      },
      "execution_count": null,
      "outputs": [
        {
          "output_type": "execute_result",
          "data": {
            "text/plain": [
              "{'baik': 0,\n",
              " 'informatika': 0,\n",
              " 'ditempuh': 0,\n",
              " 'saat': 0,\n",
              " 'fakultas': 0,\n",
              " 'semester': 0,\n",
              " '2009.': 0,\n",
              " 'STKI.': 0,\n",
              " 'adalah': 0,\n",
              " 'fakultas,': 0,\n",
              " 'STKI': 0,\n",
              " 'fasilkom': 1,\n",
              " 'matakuliah': 0,\n",
              " 'semangat': 0,\n",
              " 'jember': 0,\n",
              " 'mahasiswa': 0,\n",
              " 'bawah': 0,\n",
              " 'pada': 0,\n",
              " 'sangat': 0,\n",
              " 'universitas': 0,\n",
              " '24': 0,\n",
              " 'untuk': 0,\n",
              " 'maju': 0,\n",
              " 'memenangkan': 0,\n",
              " 'akademik.': 0,\n",
              " 'mulai': 0,\n",
              " 'sehingga': 0,\n",
              " 'prodi': 1,\n",
              " 'setara': 0,\n",
              " 'manapun': 0,\n",
              " 'pilihan': 0,\n",
              " 'dokumen': 0,\n",
              " 'memiliki': 0,\n",
              " 'pencarian': 0,\n",
              " 'yang': 0,\n",
              " 'turnamen': 0,\n",
              " 'pertama': 0,\n",
              " 'ini': 0,\n",
              " 'informasi.': 0,\n",
              " 'non': 0,\n",
              " 'ingin': 0,\n",
              " 'menerima': 0,\n",
              " 'data': 0,\n",
              " 'terstruktur.': 0,\n",
              " 'sebagai': 0,\n",
              " '6.': 0,\n",
              " 'sekumpulan': 0,\n",
              " 'pertama,': 0,\n",
              " 'maupun': 0,\n",
              " 'tahun': 0,\n",
              " 'akademik': 0,\n",
              " 'hebat.': 0,\n",
              " 'informasi': 0,\n",
              " 'itu': 0,\n",
              " 'ditawarkan': 0,\n",
              " 'banyak': 0,\n",
              " 'tidak': 0,\n",
              " 'merupakan': 0,\n",
              " 'berdiri': 0,\n",
              " 'sistem': 0,\n",
              " 'teks': 0,\n",
              " 'menunjukkan': 0,\n",
              " 'Saat': 0,\n",
              " 'berada': 0,\n",
              " 'telah': 0,\n",
              " 'di': 0,\n",
              " 'bernama': 0,\n",
              " 'tinggi': 0,\n",
              " 'mempelajari': 0,\n",
              " 'metode': 0,\n",
              " 'dari': 0}"
            ]
          },
          "metadata": {},
          "execution_count": 10
        }
      ]
    },
    {
      "cell_type": "markdown",
      "source": [
        "#Boolean Retrieval Model"
      ],
      "metadata": {
        "id": "AkBPPeJqZB6N"
      }
    },
    {
      "cell_type": "markdown",
      "source": [
        "## AND"
      ],
      "metadata": {
        "id": "hLImdFiTriQ6"
      }
    },
    {
      "cell_type": "code",
      "source": [
        "def retrievedObjectAND(bag_of_word, theta):\n",
        "  print('Retrieved object (R) dengan logika \"AND\"')\n",
        "  print(\"----------------------------------------\")\n",
        "  result = bag_of_word[theta[0]]\n",
        "\n",
        "  # Mencari irisan setiap kata dalam query\n",
        "  for i in range(1, len(theta)):\n",
        "    result = result.intersection(bag_of_word[theta[i]])\n",
        "\n",
        "  for i in result:\n",
        "    print(f\"Obj {i} : {daftarObj[i-1]}\")\n",
        "\n",
        "retrievedObjectAND(bag_of_word, theta)"
      ],
      "metadata": {
        "colab": {
          "base_uri": "https://localhost:8080/"
        },
        "id": "6T5D7W5cT9N5",
        "outputId": "71ad2b86-37a6-4ff8-f804-f82bcca01db9"
      },
      "execution_count": null,
      "outputs": [
        {
          "output_type": "stream",
          "name": "stdout",
          "text": [
            "Retrieved object (R) dengan logika \"AND\"\n",
            "----------------------------------------\n",
            "Obj 2 : prodi pertama fasilkom universitas jember adalah prodi sistem informasi. prodi sistem informasi fasilkom universitas jember mulai menerima mahasiswa pada tahun 2009. prodi  sistem informasi fasilkom universitas jember berdiri sebagai prodi setara fakultas, sehingga prodi sistem informasi ini tidak berada di bawah fakultas manapun saat itu\n",
            "Obj 3 : prodi informatika fasilkom universitas jember memiliki matakuliah pilihan yang bernama STKI. matakuliah STKI ditawarkan untuk mahasiswa yang ingin mempelajari metode pencarian informasi dari sekumpulan dokumen teks yang merupakan data tidak terstruktur. matakuliah STKI ditawarkan pada semester 6. Saat ini matakuliah STKI ditempuh 24 mahasiswa\n"
          ]
        }
      ]
    },
    {
      "cell_type": "markdown",
      "source": [
        "## OR"
      ],
      "metadata": {
        "id": "qXoDr29002AE"
      }
    },
    {
      "cell_type": "code",
      "source": [
        "def retrievedObjectOR(bag_of_word, theta):\n",
        "  print('Retrieved object (R) dengan logika \"OR\"')\n",
        "  print(\"----------------------------------------\")\n",
        "  result = bag_of_word[theta[0]]\n",
        "\n",
        "  # Mencari gabungan setiap kata dalam query\n",
        "  for i in range(1, len(theta)):\n",
        "    result = result.union(bag_of_word[theta[i]])\n",
        "\n",
        "  for i in result:\n",
        "    print(f\"Obj {i} : {daftarObj[i-1]}\")\n",
        "\n",
        "retrievedObjectOR(bag_of_word, theta)"
      ],
      "metadata": {
        "colab": {
          "base_uri": "https://localhost:8080/"
        },
        "id": "PuxWG4eE09j6",
        "outputId": "3aa67698-c40e-4a71-aaca-351c0695e15a"
      },
      "execution_count": null,
      "outputs": [
        {
          "output_type": "stream",
          "name": "stdout",
          "text": [
            "Retrieved object (R) dengan logika \"OR\"\n",
            "----------------------------------------\n",
            "Obj 1 : mahasiswa fasilkom universitas jember adalah mahasiswa hebat. mahasiswa fasilkom universitas jember banyak memenangkan turnamen baik akademik maupun non akademik. mulai tahun pertama, mahasiswa fasilkom universitas jember telah menunjukkan semangat untuk maju yang sangat tinggi\n",
            "Obj 2 : prodi pertama fasilkom universitas jember adalah prodi sistem informasi. prodi sistem informasi fasilkom universitas jember mulai menerima mahasiswa pada tahun 2009. prodi  sistem informasi fasilkom universitas jember berdiri sebagai prodi setara fakultas, sehingga prodi sistem informasi ini tidak berada di bawah fakultas manapun saat itu\n",
            "Obj 3 : prodi informatika fasilkom universitas jember memiliki matakuliah pilihan yang bernama STKI. matakuliah STKI ditawarkan untuk mahasiswa yang ingin mempelajari metode pencarian informasi dari sekumpulan dokumen teks yang merupakan data tidak terstruktur. matakuliah STKI ditawarkan pada semester 6. Saat ini matakuliah STKI ditempuh 24 mahasiswa\n"
          ]
        }
      ]
    },
    {
      "cell_type": "markdown",
      "source": [
        "## NOT"
      ],
      "metadata": {
        "id": "BwWVrGLn1eUb"
      }
    },
    {
      "cell_type": "code",
      "source": [
        "def retrievedObjectNOT(bag_of_word, theta):\n",
        "  print('Retrieved object (R) dengan logika \"NOT\"')\n",
        "  print(\"----------------------------------------\")\n",
        "  result = bag_of_word[theta[0]]\n",
        "\n",
        "  # Mencari selisih setiap kata dalam query\n",
        "  for i in range(1, len(theta)):\n",
        "    result = result.symmetric_difference(bag_of_word[theta[i]])\n",
        "    # result = result.difference(bag_of_word[theta[i]])\n",
        "\n",
        "  for i in result:\n",
        "    print(f\"Obj {i} : {daftarObj[i-1]}\")\n",
        "\n",
        "retrievedObjectNOT(bag_of_word, theta)"
      ],
      "metadata": {
        "colab": {
          "base_uri": "https://localhost:8080/"
        },
        "id": "gRkah2Q11G50",
        "outputId": "3b00c229-dbce-4aaa-f4cd-2645747289fe"
      },
      "execution_count": null,
      "outputs": [
        {
          "output_type": "stream",
          "name": "stdout",
          "text": [
            "Retrieved object (R) dengan logika \"NOT\"\n",
            "----------------------------------------\n",
            "Obj 1 : mahasiswa fasilkom universitas jember adalah mahasiswa hebat. mahasiswa fasilkom universitas jember banyak memenangkan turnamen baik akademik maupun non akademik. mulai tahun pertama, mahasiswa fasilkom universitas jember telah menunjukkan semangat untuk maju yang sangat tinggi\n"
          ]
        }
      ]
    },
    {
      "cell_type": "markdown",
      "source": [
        "#Sorting Relevansi\n",
        "\n",
        "Melakukan pengurutan pada hasil perhitungan dengan mengguanakan fungsi sorted(), dan hasilnya disimpan dalam variabel \"sortedResult\" dengan type list."
      ],
      "metadata": {
        "id": "JohOtP_2tYkM"
      }
    },
    {
      "cell_type": "code",
      "source": [
        "def sortRelevan(result, daftarObj):\n",
        "  sortedResult = sorted(result.items(), key=lambda x: x[1], reverse=True) #Mengurutkan hasil hitung\n",
        "\n",
        "  for i in sortedResult:  \n",
        "    print(f\"Dokumen {i[0]+1} : {i[1]}\") \n",
        "    print(daftarObj[i[0]], \"\\n\")\n",
        "\n",
        "  return sortedResult"
      ],
      "metadata": {
        "id": "wi0zBr_DtqTb"
      },
      "execution_count": null,
      "outputs": []
    },
    {
      "cell_type": "markdown",
      "source": [
        "#Pemberian Skor pada Dokumen"
      ],
      "metadata": {
        "id": "1A3URD5IZe32"
      }
    },
    {
      "cell_type": "markdown",
      "source": [
        "##Koefisien Jaccard"
      ],
      "metadata": {
        "id": "HP1YzEIHjEV4"
      }
    },
    {
      "cell_type": "code",
      "source": [
        "def koefisienJaccard(theta, fitur, daftarObj):\n",
        "  jaccardResult = {}\n",
        "\n",
        "  for fiturIndex in range(len(daftarObj)): #perulangan berdasarkan jumlah objek\n",
        "    intersecResult = set(theta).intersection(set(fitur[fiturIndex])) # query irisan objek/dokumen ke-i\n",
        "    up = abs(len(intersecResult))\n",
        "\n",
        "    unionResult = set(theta).union(set(fitur[fiturIndex])) # query gabungan objek/dokumen ke-i\n",
        "    down = abs(len(unionResult))\n",
        "\n",
        "    skor = up/down\n",
        "    jaccardResult[fiturIndex] = skor\n",
        "\n",
        "  print(\"Scoring Document dengan Koefisien Jaccard\", \"\\n\")\n",
        "  return sortRelevan(jaccardResult, daftarObj)\n",
        "\n",
        "jaccardResult = koefisienJaccard(theta, fitur, daftarObj)"
      ],
      "metadata": {
        "id": "zh8LZiPq2HAa",
        "colab": {
          "base_uri": "https://localhost:8080/"
        },
        "outputId": "abeb2fa5-5505-4ffd-830f-8f13298d9e04"
      },
      "execution_count": null,
      "outputs": [
        {
          "output_type": "stream",
          "name": "stdout",
          "text": [
            "Scoring Document dengan Koefisien Jaccard \n",
            "\n",
            "Dokumen 2 : 0.06896551724137931\n",
            "prodi pertama fasilkom universitas jember adalah prodi sistem informasi. prodi sistem informasi fasilkom universitas jember mulai menerima mahasiswa pada tahun 2009. prodi  sistem informasi fasilkom universitas jember berdiri sebagai prodi setara fakultas, sehingga prodi sistem informasi ini tidak berada di bawah fakultas manapun saat itu \n",
            "\n",
            "Dokumen 3 : 0.05714285714285714\n",
            "prodi informatika fasilkom universitas jember memiliki matakuliah pilihan yang bernama STKI. matakuliah STKI ditawarkan untuk mahasiswa yang ingin mempelajari metode pencarian informasi dari sekumpulan dokumen teks yang merupakan data tidak terstruktur. matakuliah STKI ditawarkan pada semester 6. Saat ini matakuliah STKI ditempuh 24 mahasiswa \n",
            "\n",
            "Dokumen 1 : 0.038461538461538464\n",
            "mahasiswa fasilkom universitas jember adalah mahasiswa hebat. mahasiswa fasilkom universitas jember banyak memenangkan turnamen baik akademik maupun non akademik. mulai tahun pertama, mahasiswa fasilkom universitas jember telah menunjukkan semangat untuk maju yang sangat tinggi \n",
            "\n"
          ]
        }
      ]
    },
    {
      "cell_type": "markdown",
      "source": [
        "##Koefisien Sørensen–Dice"
      ],
      "metadata": {
        "id": "xH8fs52FWwzH"
      }
    },
    {
      "cell_type": "code",
      "source": [
        "def koefisienSorensenDice(theta, fitur, daftarObj):\n",
        "  sorensenDiceResult = {}\n",
        "  for fiturIndex in range(len(daftarObj)): # perulangan berdasarkan jumlah objek\n",
        "    intersecResult = set(theta).intersection(set(fitur[fiturIndex])) # query irisan objek/dokumen ke-i\n",
        "    up = 2 * abs(len(intersecResult)) # perkalian antara hasil irisan dengan dua\n",
        "\n",
        "    down = abs(len(set(theta)) + len(set(fitur[fiturIndex]))) # penjumlahan jumlah kata query dengan jumlah kata fitur\n",
        "\n",
        "    skor = up/down\n",
        "    sorensenDiceResult[fiturIndex] = skor\n",
        "\n",
        "  print(\"Scoring Document dengan Koefisien Sørensen–Dice\", \"\\n\")\n",
        "  return sortRelevan(sorensenDiceResult, daftarObj)\n",
        "\n",
        "sorensenDiceResult = koefisienSorensenDice(theta, fitur, daftarObj)"
      ],
      "metadata": {
        "colab": {
          "base_uri": "https://localhost:8080/"
        },
        "id": "AohvNeNrW2w7",
        "outputId": "d5ba4b2a-37e9-4ecf-8c05-1a8ed68ca14c"
      },
      "execution_count": null,
      "outputs": [
        {
          "output_type": "stream",
          "name": "stdout",
          "text": [
            "Scoring Document dengan Koefisien Sørensen–Dice \n",
            "\n",
            "Dokumen 2 : 0.12903225806451613\n",
            "prodi pertama fasilkom universitas jember adalah prodi sistem informasi. prodi sistem informasi fasilkom universitas jember mulai menerima mahasiswa pada tahun 2009. prodi  sistem informasi fasilkom universitas jember berdiri sebagai prodi setara fakultas, sehingga prodi sistem informasi ini tidak berada di bawah fakultas manapun saat itu \n",
            "\n",
            "Dokumen 3 : 0.10810810810810811\n",
            "prodi informatika fasilkom universitas jember memiliki matakuliah pilihan yang bernama STKI. matakuliah STKI ditawarkan untuk mahasiswa yang ingin mempelajari metode pencarian informasi dari sekumpulan dokumen teks yang merupakan data tidak terstruktur. matakuliah STKI ditawarkan pada semester 6. Saat ini matakuliah STKI ditempuh 24 mahasiswa \n",
            "\n",
            "Dokumen 1 : 0.07407407407407407\n",
            "mahasiswa fasilkom universitas jember adalah mahasiswa hebat. mahasiswa fasilkom universitas jember banyak memenangkan turnamen baik akademik maupun non akademik. mulai tahun pertama, mahasiswa fasilkom universitas jember telah menunjukkan semangat untuk maju yang sangat tinggi \n",
            "\n"
          ]
        }
      ]
    },
    {
      "cell_type": "markdown",
      "source": [
        "##Koefisien Overlap Similarity"
      ],
      "metadata": {
        "id": "J2Av6qI9Zyoi"
      }
    },
    {
      "cell_type": "code",
      "source": [
        "def koefisienOverlapSimilarity(theta, fitur, daftarObj):\n",
        "  overlapSimilarityResult = {}\n",
        "  for fiturIndex in range(len(daftarObj)): # perulangan berdasarkan jumlah objek\n",
        "    intersecResult = set(theta).intersection(set(fitur[fiturIndex])) # query irisan objek/dokumen ke-i\n",
        "    up = abs(len(intersecResult))\n",
        "\n",
        "    queryLength = len(set(theta))\n",
        "    fiturLength = len(set(fitur[fiturIndex]))\n",
        "    down = min(abs(queryLength), abs(fiturLength)) # mencari nilai terkecil antara panjang query dan panjang fitur\n",
        "\n",
        "    skor = up/down\n",
        "    overlapSimilarityResult[fiturIndex] = skor\n",
        "\n",
        "  print(\"Scoring Document dengan Koefisien Overlap Similarity\", \"\\n\")\n",
        "  return sortRelevan(overlapSimilarityResult, daftarObj)\n",
        "\n",
        "overlapSimilarityResult = koefisienOverlapSimilarity(theta, fitur, daftarObj)"
      ],
      "metadata": {
        "colab": {
          "base_uri": "https://localhost:8080/"
        },
        "id": "YGJcKaZxZFT3",
        "outputId": "aa178cc6-98e3-48b1-edb5-a5dec6520cfd"
      },
      "execution_count": null,
      "outputs": [
        {
          "output_type": "stream",
          "name": "stdout",
          "text": [
            "Scoring Document dengan Koefisien Overlap Similarity \n",
            "\n",
            "Dokumen 2 : 1.0\n",
            "prodi pertama fasilkom universitas jember adalah prodi sistem informasi. prodi sistem informasi fasilkom universitas jember mulai menerima mahasiswa pada tahun 2009. prodi  sistem informasi fasilkom universitas jember berdiri sebagai prodi setara fakultas, sehingga prodi sistem informasi ini tidak berada di bawah fakultas manapun saat itu \n",
            "\n",
            "Dokumen 3 : 1.0\n",
            "prodi informatika fasilkom universitas jember memiliki matakuliah pilihan yang bernama STKI. matakuliah STKI ditawarkan untuk mahasiswa yang ingin mempelajari metode pencarian informasi dari sekumpulan dokumen teks yang merupakan data tidak terstruktur. matakuliah STKI ditawarkan pada semester 6. Saat ini matakuliah STKI ditempuh 24 mahasiswa \n",
            "\n",
            "Dokumen 1 : 0.5\n",
            "mahasiswa fasilkom universitas jember adalah mahasiswa hebat. mahasiswa fasilkom universitas jember banyak memenangkan turnamen baik akademik maupun non akademik. mulai tahun pertama, mahasiswa fasilkom universitas jember telah menunjukkan semangat untuk maju yang sangat tinggi \n",
            "\n"
          ]
        }
      ]
    },
    {
      "cell_type": "markdown",
      "source": [
        "##Rangking Modul"
      ],
      "metadata": {
        "id": "Ffw9Vc_acyod"
      }
    },
    {
      "cell_type": "code",
      "source": [
        "print(f\"Rangking Modul dengan query '{query}' \\n\")\n",
        "for i in range(len(daftarObj)):\n",
        "  print(f\"Rank {i+1}\")\n",
        "  print(f\"Jaccard \\t\\t: Obj {jaccardResult[i][0]} : {jaccardResult[i][1]}\")\n",
        "  print(f\"Sørensen–Dice \\t\\t: Obj {sorensenDiceResult[i][0]} : {sorensenDiceResult[i][1]}\")\n",
        "  print(f\"Overlap Similarity \\t: Obj {overlapSimilarityResult[i][0]} : {overlapSimilarityResult[i][1]} \\n\")"
      ],
      "metadata": {
        "colab": {
          "base_uri": "https://localhost:8080/"
        },
        "id": "rxyVxFZYZF47",
        "outputId": "3f296ebf-8a69-4eb1-8351-27866a9b05f3"
      },
      "execution_count": null,
      "outputs": [
        {
          "output_type": "stream",
          "name": "stdout",
          "text": [
            "Rangking Modul dengan query 'prodi fasilkom' \n",
            "\n",
            "Rank 1\n",
            "Jaccard \t\t: Obj 1 : 0.06896551724137931\n",
            "Sørensen–Dice \t\t: Obj 1 : 0.12903225806451613\n",
            "Overlap Similarity \t: Obj 1 : 1.0 \n",
            "\n",
            "Rank 2\n",
            "Jaccard \t\t: Obj 2 : 0.05714285714285714\n",
            "Sørensen–Dice \t\t: Obj 2 : 0.10810810810810811\n",
            "Overlap Similarity \t: Obj 2 : 1.0 \n",
            "\n",
            "Rank 3\n",
            "Jaccard \t\t: Obj 0 : 0.038461538461538464\n",
            "Sørensen–Dice \t\t: Obj 0 : 0.07407407407407407\n",
            "Overlap Similarity \t: Obj 0 : 0.5 \n",
            "\n"
          ]
        }
      ]
    },
    {
      "cell_type": "markdown",
      "source": [
        "#Cosine Similarity"
      ],
      "metadata": {
        "id": "ptghgLrtUSNz"
      }
    },
    {
      "cell_type": "markdown",
      "source": [
        "##Preparing document"
      ],
      "metadata": {
        "id": "gTB6rNT6O6Mo"
      }
    },
    {
      "cell_type": "code",
      "source": [
        "d1 = \"mahasiswa fasilkom universitas jember adalah mahasiswa hebat. mahasiswa fasilkom universitas jember banyak memenangkan turnamen baik akademik maupun non akademik. mulai tahun pertama, mahasiswa fasilkom universitas jember telah menunjukkan semangat untuk maju yang sangat tinggi\"\n",
        "d2 = \"prodi pertama fasilkom universitas jember adalah prodi sistem informasi. prodi sistem informasi fasilkom universitas jember mulai menerima mahasiswa pada tahun 2009. prodi  sistem informasi fasilkom universitas jember berdiri sebagai prodi setara fakultas, sehingga prodi sistem informasi ini tidak berada di bawah fakultas manapun saat itu\"\n",
        "d3 = \"prodi informatika fasilkom universitas jember memiliki matakuliah pilihan yang bernama STKI (sistem temu kembali informasi). matakuliah STKI ditawarkan untuk mahasiswa yang ingin mempelajari metode pencarian informasi dari sekumpulan dokumen teks yang merupakan data tidak terstruktur. matakuliah STKI ditawarkan pada semester 6. Saat ini matakuliah STKI ditempuh 24 mahasiswa\""
      ],
      "metadata": {
        "id": "mHMcrpnT_1dB"
      },
      "execution_count": null,
      "outputs": []
    },
    {
      "cell_type": "code",
      "source": [
        "daftarDokumen = [d1,d2,d3]"
      ],
      "metadata": {
        "id": "82SmKxx0CIHW"
      },
      "execution_count": null,
      "outputs": []
    },
    {
      "cell_type": "code",
      "source": [
        "dokumenFitur = cariFitur(daftarDokumen)"
      ],
      "metadata": {
        "colab": {
          "base_uri": "https://localhost:8080/"
        },
        "id": "f-gcUnomONjJ",
        "outputId": "a2133328-67b9-44cf-bd54-923e43ee26d0"
      },
      "execution_count": null,
      "outputs": [
        {
          "output_type": "stream",
          "name": "stdout",
          "text": [
            "Representasi obyek\n",
            "obj 1 -> D 1 = ['mahasiswa', 'fasilkom', 'universitas', 'jember', 'adalah', 'mahasiswa', 'hebat.', 'mahasiswa', 'fasilkom', 'universitas', 'jember', 'banyak', 'memenangkan', 'turnamen', 'baik', 'akademik', 'maupun', 'non', 'akademik.', 'mulai', 'tahun', 'pertama,', 'mahasiswa', 'fasilkom', 'universitas', 'jember', 'telah', 'menunjukkan', 'semangat', 'untuk', 'maju', 'yang', 'sangat', 'tinggi']\n",
            "obj 2 -> D 2 = ['prodi', 'pertama', 'fasilkom', 'universitas', 'jember', 'adalah', 'prodi', 'sistem', 'informasi.', 'prodi', 'sistem', 'informasi', 'fasilkom', 'universitas', 'jember', 'mulai', 'menerima', 'mahasiswa', 'pada', 'tahun', '2009.', 'prodi', 'sistem', 'informasi', 'fasilkom', 'universitas', 'jember', 'berdiri', 'sebagai', 'prodi', 'setara', 'fakultas,', 'sehingga', 'prodi', 'sistem', 'informasi', 'ini', 'tidak', 'berada', 'di', 'bawah', 'fakultas', 'manapun', 'saat', 'itu']\n",
            "obj 3 -> D 3 = ['prodi', 'informatika', 'fasilkom', 'universitas', 'jember', 'memiliki', 'matakuliah', 'pilihan', 'yang', 'bernama', 'STKI', '(sistem', 'temu', 'kembali', 'informasi).', 'matakuliah', 'STKI', 'ditawarkan', 'untuk', 'mahasiswa', 'yang', 'ingin', 'mempelajari', 'metode', 'pencarian', 'informasi', 'dari', 'sekumpulan', 'dokumen', 'teks', 'yang', 'merupakan', 'data', 'tidak', 'terstruktur.', 'matakuliah', 'STKI', 'ditawarkan', 'pada', 'semester', '6.', 'Saat', 'ini', 'matakuliah', 'STKI', 'ditempuh', '24', 'mahasiswa']\n"
          ]
        }
      ]
    },
    {
      "cell_type": "code",
      "source": [
        "daftarKataUnikDokumen = cariKataUnik(dokumenFitur)"
      ],
      "metadata": {
        "id": "4-NFm1O7Pbzl"
      },
      "execution_count": null,
      "outputs": []
    },
    {
      "cell_type": "code",
      "source": [
        "daftarDokumentFrek = []\n",
        "for dok in daftarDokumen:\n",
        "  dokFrek = countFrek(daftarKataUnikDokumen, dok)\n",
        "  daftarDokumentFrek.append(dokFrek)"
      ],
      "metadata": {
        "id": "f45loZ0wP5bZ"
      },
      "execution_count": null,
      "outputs": []
    },
    {
      "cell_type": "code",
      "source": [
        "daftarDokumentFrek"
      ],
      "metadata": {
        "id": "norLb5Pavxgx",
        "colab": {
          "base_uri": "https://localhost:8080/"
        },
        "outputId": "ad99d2ed-3c49-492d-fe41-2bbf99ce26ec"
      },
      "execution_count": null,
      "outputs": [
        {
          "output_type": "execute_result",
          "data": {
            "text/plain": [
              "[{'baik': 1,\n",
              "  'informatika': 0,\n",
              "  'ditempuh': 0,\n",
              "  'saat': 0,\n",
              "  'fakultas': 0,\n",
              "  'semester': 0,\n",
              "  '2009.': 0,\n",
              "  'adalah': 1,\n",
              "  'fakultas,': 0,\n",
              "  'STKI': 0,\n",
              "  'fasilkom': 3,\n",
              "  'matakuliah': 0,\n",
              "  'semangat': 1,\n",
              "  'kembali': 0,\n",
              "  'jember': 3,\n",
              "  'mahasiswa': 4,\n",
              "  'bawah': 0,\n",
              "  'pada': 0,\n",
              "  'sangat': 1,\n",
              "  'universitas': 3,\n",
              "  '24': 0,\n",
              "  'untuk': 1,\n",
              "  'maju': 1,\n",
              "  'memenangkan': 1,\n",
              "  'akademik.': 1,\n",
              "  'mulai': 1,\n",
              "  'sehingga': 0,\n",
              "  'prodi': 0,\n",
              "  'setara': 0,\n",
              "  'manapun': 0,\n",
              "  'pilihan': 0,\n",
              "  'dokumen': 0,\n",
              "  'memiliki': 0,\n",
              "  'pencarian': 0,\n",
              "  'yang': 1,\n",
              "  'turnamen': 1,\n",
              "  'pertama': 1,\n",
              "  'ini': 0,\n",
              "  'informasi.': 0,\n",
              "  'non': 1,\n",
              "  'ingin': 0,\n",
              "  'menerima': 0,\n",
              "  'data': 0,\n",
              "  'terstruktur.': 0,\n",
              "  'sebagai': 0,\n",
              "  '6.': 0,\n",
              "  'sekumpulan': 0,\n",
              "  'pertama,': 1,\n",
              "  'maupun': 1,\n",
              "  'tahun': 1,\n",
              "  'akademik': 2,\n",
              "  'hebat.': 1,\n",
              "  'informasi': 0,\n",
              "  'itu': 0,\n",
              "  'temu': 0,\n",
              "  'informasi).': 0,\n",
              "  'banyak': 1,\n",
              "  'tidak': 0,\n",
              "  'ditawarkan': 0,\n",
              "  'merupakan': 0,\n",
              "  'berdiri': 0,\n",
              "  'sistem': 0,\n",
              "  '(sistem': 0,\n",
              "  'teks': 0,\n",
              "  'menunjukkan': 1,\n",
              "  'Saat': 0,\n",
              "  'berada': 0,\n",
              "  'telah': 1,\n",
              "  'di': 0,\n",
              "  'bernama': 0,\n",
              "  'tinggi': 1,\n",
              "  'mempelajari': 0,\n",
              "  'metode': 0,\n",
              "  'dari': 0},\n",
              " {'baik': 0,\n",
              "  'informatika': 0,\n",
              "  'ditempuh': 0,\n",
              "  'saat': 1,\n",
              "  'fakultas': 2,\n",
              "  'semester': 0,\n",
              "  '2009.': 1,\n",
              "  'adalah': 1,\n",
              "  'fakultas,': 1,\n",
              "  'STKI': 0,\n",
              "  'fasilkom': 3,\n",
              "  'matakuliah': 0,\n",
              "  'semangat': 0,\n",
              "  'kembali': 0,\n",
              "  'jember': 3,\n",
              "  'mahasiswa': 1,\n",
              "  'bawah': 1,\n",
              "  'pada': 1,\n",
              "  'sangat': 0,\n",
              "  'universitas': 3,\n",
              "  '24': 0,\n",
              "  'untuk': 0,\n",
              "  'maju': 0,\n",
              "  'memenangkan': 0,\n",
              "  'akademik.': 0,\n",
              "  'mulai': 1,\n",
              "  'sehingga': 1,\n",
              "  'prodi': 6,\n",
              "  'setara': 1,\n",
              "  'manapun': 1,\n",
              "  'pilihan': 0,\n",
              "  'dokumen': 0,\n",
              "  'memiliki': 0,\n",
              "  'pencarian': 0,\n",
              "  'yang': 0,\n",
              "  'turnamen': 0,\n",
              "  'pertama': 1,\n",
              "  'ini': 1,\n",
              "  'informasi.': 1,\n",
              "  'non': 0,\n",
              "  'ingin': 0,\n",
              "  'menerima': 1,\n",
              "  'data': 0,\n",
              "  'terstruktur.': 0,\n",
              "  'sebagai': 1,\n",
              "  '6.': 0,\n",
              "  'sekumpulan': 0,\n",
              "  'pertama,': 0,\n",
              "  'maupun': 0,\n",
              "  'tahun': 1,\n",
              "  'akademik': 0,\n",
              "  'hebat.': 0,\n",
              "  'informasi': 4,\n",
              "  'itu': 1,\n",
              "  'temu': 0,\n",
              "  'informasi).': 0,\n",
              "  'banyak': 0,\n",
              "  'tidak': 1,\n",
              "  'ditawarkan': 0,\n",
              "  'merupakan': 0,\n",
              "  'berdiri': 1,\n",
              "  'sistem': 4,\n",
              "  '(sistem': 0,\n",
              "  'teks': 0,\n",
              "  'menunjukkan': 0,\n",
              "  'Saat': 0,\n",
              "  'berada': 1,\n",
              "  'telah': 0,\n",
              "  'di': 8,\n",
              "  'bernama': 0,\n",
              "  'tinggi': 0,\n",
              "  'mempelajari': 0,\n",
              "  'metode': 0,\n",
              "  'dari': 0},\n",
              " {'baik': 0,\n",
              "  'informatika': 1,\n",
              "  'ditempuh': 1,\n",
              "  'saat': 0,\n",
              "  'fakultas': 0,\n",
              "  'semester': 1,\n",
              "  '2009.': 0,\n",
              "  'adalah': 0,\n",
              "  'fakultas,': 0,\n",
              "  'STKI': 4,\n",
              "  'fasilkom': 1,\n",
              "  'matakuliah': 4,\n",
              "  'semangat': 0,\n",
              "  'kembali': 1,\n",
              "  'jember': 1,\n",
              "  'mahasiswa': 2,\n",
              "  'bawah': 0,\n",
              "  'pada': 1,\n",
              "  'sangat': 0,\n",
              "  'universitas': 1,\n",
              "  '24': 1,\n",
              "  'untuk': 1,\n",
              "  'maju': 0,\n",
              "  'memenangkan': 0,\n",
              "  'akademik.': 0,\n",
              "  'mulai': 0,\n",
              "  'sehingga': 0,\n",
              "  'prodi': 1,\n",
              "  'setara': 0,\n",
              "  'manapun': 0,\n",
              "  'pilihan': 1,\n",
              "  'dokumen': 1,\n",
              "  'memiliki': 1,\n",
              "  'pencarian': 1,\n",
              "  'yang': 3,\n",
              "  'turnamen': 0,\n",
              "  'pertama': 0,\n",
              "  'ini': 1,\n",
              "  'informasi.': 0,\n",
              "  'non': 0,\n",
              "  'ingin': 1,\n",
              "  'menerima': 0,\n",
              "  'data': 1,\n",
              "  'terstruktur.': 1,\n",
              "  'sebagai': 0,\n",
              "  '6.': 1,\n",
              "  'sekumpulan': 1,\n",
              "  'pertama,': 0,\n",
              "  'maupun': 0,\n",
              "  'tahun': 0,\n",
              "  'akademik': 0,\n",
              "  'hebat.': 0,\n",
              "  'informasi': 2,\n",
              "  'itu': 0,\n",
              "  'temu': 1,\n",
              "  'informasi).': 1,\n",
              "  'banyak': 0,\n",
              "  'tidak': 1,\n",
              "  'ditawarkan': 2,\n",
              "  'merupakan': 1,\n",
              "  'berdiri': 0,\n",
              "  'sistem': 1,\n",
              "  '(sistem': 1,\n",
              "  'teks': 1,\n",
              "  'menunjukkan': 0,\n",
              "  'Saat': 1,\n",
              "  'berada': 0,\n",
              "  'telah': 0,\n",
              "  'di': 4,\n",
              "  'bernama': 1,\n",
              "  'tinggi': 0,\n",
              "  'mempelajari': 1,\n",
              "  'metode': 1,\n",
              "  'dari': 1}]"
            ]
          },
          "metadata": {},
          "execution_count": 24
        }
      ]
    },
    {
      "cell_type": "markdown",
      "source": [
        "##Cosine Similarity dengan Query"
      ],
      "metadata": {
        "id": "XD9YUfvI1R5Q"
      }
    },
    {
      "cell_type": "code",
      "source": [
        "import math\n",
        "\n",
        "def cosine_similiarity_by_query(daftarDokFrek, daftarKataUnik, queryFrek, daftarObj):\n",
        "\n",
        "  daftarCosSimilarity = {}\n",
        "  countDok = 0\n",
        "\n",
        "  for dokFrek in daftarDokFrek:\n",
        "    pembilang = 0\n",
        "    kwadrat1 = 0\n",
        "    kwadrat2 = 0\n",
        "\n",
        "    for term in daftarKataUnik:\n",
        "      kwadrat1 += dokFrek[term] ** 2\n",
        "      kwadrat2 += queryFrek[term] ** 2\n",
        "      pembilang += (dokFrek[term] * queryFrek[term])\n",
        "\n",
        "    penyebut = math.sqrt(kwadrat1 * kwadrat2)\n",
        "    cosSimiliraty = pembilang / penyebut\n",
        "    arcCos = math.acos(cosSimiliraty)\n",
        "    daftarCosSimilarity[countDok] = cosSimiliraty\n",
        "    countDok += 1\n",
        "\n",
        "  return sortRelevan(daftarCosSimilarity, daftarObj)\n",
        "\n",
        "print(f'Cosine Similarity dokumen dengan query: \"{query}\"\\n')\n",
        "sortedCosSimilarity = cosine_similiarity_by_query(daftarDokFrek, daftarKataUnik, queryFrek, daftarObj)"
      ],
      "metadata": {
        "colab": {
          "base_uri": "https://localhost:8080/"
        },
        "id": "bOfCH9t41eYi",
        "outputId": "2497dbed-03b9-4492-cae7-e98bf0c7b2f3"
      },
      "execution_count": null,
      "outputs": [
        {
          "output_type": "stream",
          "name": "stdout",
          "text": [
            "Cosine Similarity dokumen dengan query: \"prodi fasilkom\"\n",
            "\n",
            "Dokumen 2 : 0.4691574316284183\n",
            "prodi pertama fasilkom universitas jember adalah prodi sistem informasi. prodi sistem informasi fasilkom universitas jember mulai menerima mahasiswa pada tahun 2009. prodi  sistem informasi fasilkom universitas jember berdiri sebagai prodi setara fakultas, sehingga prodi sistem informasi ini tidak berada di bawah fakultas manapun saat itu \n",
            "\n",
            "Dokumen 1 : 0.25724787771376323\n",
            "mahasiswa fasilkom universitas jember adalah mahasiswa hebat. mahasiswa fasilkom universitas jember banyak memenangkan turnamen baik akademik maupun non akademik. mulai tahun pertama, mahasiswa fasilkom universitas jember telah menunjukkan semangat untuk maju yang sangat tinggi \n",
            "\n",
            "Dokumen 3 : 0.14509525002200233\n",
            "prodi informatika fasilkom universitas jember memiliki matakuliah pilihan yang bernama STKI. matakuliah STKI ditawarkan untuk mahasiswa yang ingin mempelajari metode pencarian informasi dari sekumpulan dokumen teks yang merupakan data tidak terstruktur. matakuliah STKI ditawarkan pada semester 6. Saat ini matakuliah STKI ditempuh 24 mahasiswa \n",
            "\n"
          ]
        }
      ]
    },
    {
      "cell_type": "markdown",
      "source": [
        "##Cosine Similarity antar dokumen"
      ],
      "metadata": {
        "id": "-mzEP71P1YWw"
      }
    },
    {
      "cell_type": "code",
      "source": [
        "import math\n",
        "\n",
        "def cosine_similiarity_by_documents(daftarDokFrek, daftarKataUnik):\n",
        "\n",
        "  daftarCosSimilarity = {}\n",
        "\n",
        "  for dokFrekIndex1 in range(len(daftarDokFrek)):\n",
        "    for dokFrekIndex2 in range(dokFrekIndex1+1, len(daftarDokFrek)):\n",
        "      pembilang = 0\n",
        "      kwadrat1 = 0\n",
        "      kwadrat2 = 0\n",
        "\n",
        "      for term in daftarKataUnik:\n",
        "        kwadrat1 += daftarDokFrek[dokFrekIndex1][term] ** 2\n",
        "        kwadrat2 += daftarDokFrek[dokFrekIndex2][term] ** 2\n",
        "        pembilang += (daftarDokFrek[dokFrekIndex1][term] * daftarDokFrek[dokFrekIndex2][term])\n",
        "\n",
        "      penyebut = math.sqrt(kwadrat1 * kwadrat2)\n",
        "      cosSimiliraty = pembilang / penyebut\n",
        "      arcCos = math.acos(cosSimiliraty)\n",
        "      daftarCosSimilarity[f\"Dokumen-{dokFrekIndex1+1} dengan Dokumen-{dokFrekIndex2+1}\"] = cosSimiliraty\n",
        "\n",
        "  return daftarCosSimilarity\n",
        "\n",
        "cosSimilarityDocuments = cosine_similiarity_by_documents(daftarDokumentFrek, daftarKataUnikDokumen)\n",
        "\n",
        "print(f'Cosine Similarity antar dokumen\\n')\n",
        "for key, value in cosSimilarityDocuments.items():\n",
        "  print(key)\n",
        "  print(value)\n",
        "  print()"
      ],
      "metadata": {
        "id": "c-F6cINVUXjs",
        "colab": {
          "base_uri": "https://localhost:8080/"
        },
        "outputId": "5e154474-a9f0-41e4-ea02-3d8088902960"
      },
      "execution_count": null,
      "outputs": [
        {
          "output_type": "stream",
          "name": "stdout",
          "text": [
            "Cosine Similarity antar dokumen\n",
            "\n",
            "Dokumen-1 dengan Dokumen-2\n",
            "0.3128993611853163\n",
            "\n",
            "Dokumen-1 dengan Dokumen-3\n",
            "0.2521533558747389\n",
            "\n",
            "Dokumen-2 dengan Dokumen-3\n",
            "0.467165729979027\n",
            "\n"
          ]
        }
      ]
    },
    {
      "cell_type": "markdown",
      "source": [
        "##Contoh dokumen 1 dan 2"
      ],
      "metadata": {
        "id": "_Zhy1AuKXWVJ"
      }
    },
    {
      "cell_type": "code",
      "source": [
        "import math\n",
        "\n",
        "# dokFrek1 = {'a': 3,\n",
        "#             'b': 6}\n",
        "# dokFrek2 = {'a': 4,\n",
        "#             'b': 1.5}\n",
        "dokFrek1 = daftarDokFrek[0]\n",
        "dokFrek2 = daftarDokFrek[1]\n",
        "\n",
        "pembilang = 0\n",
        "kwadrat1 = 0\n",
        "kwadrat2 = 0\n",
        "for term in dokFrek1:\n",
        "  kwadrat1 += dokFrek1[term] ** 2\n",
        "  kwadrat2 += dokFrek2[term] ** 2\n",
        "  pembilang += (dokFrek1[term] * dokFrek2[term])\n",
        "\n",
        "penyebut = math.sqrt(kwadrat1 * kwadrat2)\n",
        "cosSimiliraty = pembilang / penyebut\n",
        "arcCos = math.acos(cosSimiliraty)\n",
        "cosSimiliraty"
      ],
      "metadata": {
        "colab": {
          "base_uri": "https://localhost:8080/"
        },
        "id": "pmHkf0zYXZq8",
        "outputId": "6ce35229-4c26-480d-9b0b-41d691419b03"
      },
      "execution_count": null,
      "outputs": [
        {
          "output_type": "execute_result",
          "data": {
            "text/plain": [
              "0.3128993611853163"
            ]
          },
          "metadata": {},
          "execution_count": 27
        }
      ]
    }
  ]
}