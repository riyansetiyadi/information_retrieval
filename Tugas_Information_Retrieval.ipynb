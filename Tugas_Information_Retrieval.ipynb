{
  "nbformat": 4,
  "nbformat_minor": 0,
  "metadata": {
    "colab": {
      "provenance": [],
      "include_colab_link": true
    },
    "kernelspec": {
      "name": "python3",
      "display_name": "Python 3"
    },
    "language_info": {
      "name": "python"
    }
  },
  "cells": [
    {
      "cell_type": "markdown",
      "metadata": {
        "id": "view-in-github",
        "colab_type": "text"
      },
      "source": [
        "<a href=\"https://colab.research.google.com/github/riyansetiyadi/information_retrieval/blob/main/Tugas_Information_Retrieval.ipynb\" target=\"_parent\"><img src=\"https://colab.research.google.com/assets/colab-badge.svg\" alt=\"Open In Colab\"/></a>"
      ]
    },
    {
      "cell_type": "markdown",
      "source": [
        "# Dokumen"
      ],
      "metadata": {
        "id": "UEV3hMl8KWc9"
      }
    },
    {
      "cell_type": "code",
      "execution_count": null,
      "metadata": {
        "colab": {
          "base_uri": "https://localhost:8080/"
        },
        "id": "c9YG5v2kKFW6",
        "outputId": "80b0b813-142c-4674-c611-b1edcdbd7f0f"
      },
      "outputs": [
        {
          "output_type": "execute_result",
          "data": {
            "text/plain": [
              "['mahasiswa fasilkom universitas jember adalah mahasiswa hebat',\n",
              " 'universitas jember memiliki 30.000 mahasiswa',\n",
              " 'saat ini fasilkom universitas jember memiliki tiga prodi',\n",
              " 'prodi pertama fasilkom universitas jember saat ini adalah prodi sistem informasi']"
            ]
          },
          "metadata": {},
          "execution_count": 1
        }
      ],
      "source": [
        "obj1 = \"mahasiswa fasilkom universitas jember adalah mahasiswa hebat\"\n",
        "obj2 = \"universitas jember memiliki 30.000 mahasiswa\"\n",
        "obj3 = \"saat ini fasilkom universitas jember memiliki tiga prodi\"\n",
        "obj4 = \"prodi pertama fasilkom universitas jember saat ini adalah prodi sistem informasi\"\n",
        "\n",
        "daftarObj = [obj1, obj2, obj3, obj4]\n",
        "daftarObj"
      ]
    },
    {
      "cell_type": "markdown",
      "source": [
        "# Split fitur"
      ],
      "metadata": {
        "id": "aHZBLMFz2bY9"
      }
    },
    {
      "cell_type": "code",
      "source": [
        "def cariFitur(daftarObj):\n",
        "  fitur = []\n",
        "  for obj in daftarObj:\n",
        "    fitur.append(obj.split(\" \")) #mengubah string menjadi list dengan pemisah spasi\n",
        "\n",
        "  print(\"Representasi obyek\")\n",
        "  for i in range(1, len(fitur)+1):\n",
        "    print(f\"obj {i} -> D {i} = {fitur[i-1]}\")\n",
        "\n",
        "  return fitur\n",
        "\n",
        "fitur = cariFitur(daftarObj)"
      ],
      "metadata": {
        "colab": {
          "base_uri": "https://localhost:8080/"
        },
        "id": "b3FSDAPbLQNg",
        "outputId": "12cb9b0d-b12f-4379-8856-3531c103ebaf"
      },
      "execution_count": null,
      "outputs": [
        {
          "output_type": "stream",
          "name": "stdout",
          "text": [
            "Representasi obyek\n",
            "obj 1 -> D 1 = ['mahasiswa', 'fasilkom', 'universitas', 'jember', 'adalah', 'mahasiswa', 'hebat']\n",
            "obj 2 -> D 2 = ['universitas', 'jember', 'memiliki', '30.000', 'mahasiswa']\n",
            "obj 3 -> D 3 = ['saat', 'ini', 'fasilkom', 'universitas', 'jember', 'memiliki', 'tiga', 'prodi']\n",
            "obj 4 -> D 4 = ['prodi', 'pertama', 'fasilkom', 'universitas', 'jember', 'saat', 'ini', 'adalah', 'prodi', 'sistem', 'informasi']\n"
          ]
        }
      ]
    },
    {
      "cell_type": "markdown",
      "source": [
        "# Mencari Kata Unik"
      ],
      "metadata": {
        "id": "8i2rAy3b2fHv"
      }
    },
    {
      "cell_type": "code",
      "source": [
        "def cariKataUnik(fitur):\n",
        "  result = sum(fitur, []) #menggabungkan beberapa list menjadi satu list\n",
        "  daftarKataUnik = set(result) #mengubah tipe data list ke set, sekaligus mengeliminasi duplikat kata\n",
        "  #print(daftarKataUnik)\n",
        "  return daftarKataUnik\n",
        "\n",
        "daftarKataUnik = cariKataUnik(fitur)\n",
        "daftarKataUnik"
      ],
      "metadata": {
        "colab": {
          "base_uri": "https://localhost:8080/"
        },
        "id": "pnG9589RMhRv",
        "outputId": "bf338bf1-57d7-46ac-aeee-be74eb9711d8"
      },
      "execution_count": null,
      "outputs": [
        {
          "output_type": "execute_result",
          "data": {
            "text/plain": [
              "{'30.000',\n",
              " 'adalah',\n",
              " 'fasilkom',\n",
              " 'hebat',\n",
              " 'informasi',\n",
              " 'ini',\n",
              " 'jember',\n",
              " 'mahasiswa',\n",
              " 'memiliki',\n",
              " 'pertama',\n",
              " 'prodi',\n",
              " 'saat',\n",
              " 'sistem',\n",
              " 'tiga',\n",
              " 'universitas'}"
            ]
          },
          "metadata": {},
          "execution_count": 3
        }
      ]
    },
    {
      "cell_type": "markdown",
      "source": [
        "# Bag Of Word"
      ],
      "metadata": {
        "id": "1uxVJUn12hb4"
      }
    },
    {
      "cell_type": "code",
      "source": [
        "def bagOfWord(daftarKataUnik, daftarObj):\n",
        "  bag_of_word = {}\n",
        "  for kataUnik in daftarKataUnik: #perulangan semua kata unik\n",
        "    bag_of_word[kataUnik] = set() #menyiapkan key berdasarkan kata unik dengan isinya set kosong\n",
        "    for objIndex in range(len(daftarObj)): #perulangan semua daftar objek/dokumen berdasarkan index\n",
        "      if kataUnik in daftarObj[objIndex]: #jika kata unik ada di dalam objek/dokumen\n",
        "        bag_of_word[kataUnik].add(objIndex+1) #menambah index objek/dokumen sesuai kata unik\n",
        "  #print(bag_of_word)\n",
        "  return bag_of_word\n",
        "\n",
        "bag_of_word = bagOfWord(daftarKataUnik, daftarObj)\n",
        "bag_of_word"
      ],
      "metadata": {
        "colab": {
          "base_uri": "https://localhost:8080/"
        },
        "id": "8zKakSMjMiV0",
        "outputId": "295c983b-04ed-49dd-9c9e-d8840daa4725"
      },
      "execution_count": null,
      "outputs": [
        {
          "output_type": "execute_result",
          "data": {
            "text/plain": [
              "{'prodi': {3, 4},\n",
              " 'informasi': {4},\n",
              " 'fasilkom': {1, 3, 4},\n",
              " 'adalah': {1, 4},\n",
              " '30.000': {2},\n",
              " 'saat': {3, 4},\n",
              " 'jember': {1, 2, 3, 4},\n",
              " 'ini': {3, 4},\n",
              " 'sistem': {4},\n",
              " 'pertama': {4},\n",
              " 'universitas': {1, 2, 3, 4},\n",
              " 'mahasiswa': {1, 2},\n",
              " 'memiliki': {2, 3},\n",
              " 'tiga': {3},\n",
              " 'hebat': {1}}"
            ]
          },
          "metadata": {},
          "execution_count": 4
        }
      ]
    },
    {
      "cell_type": "markdown",
      "source": [
        "# Query"
      ],
      "metadata": {
        "id": "CNxV1Kwm2nO5"
      }
    },
    {
      "cell_type": "code",
      "source": [
        "print(\"Membangun Query\")\n",
        "print(\"---------------\")\n",
        "query = input(\"Ketik yang anda cari: \").lower()\n",
        "theta = query.split(\" \") # memisahkan teks berdasarkan spasi\n",
        "print(f\"Theta: {theta}\")"
      ],
      "metadata": {
        "colab": {
          "base_uri": "https://localhost:8080/"
        },
        "id": "uDMuT5gBSd-r",
        "outputId": "fe169930-ffa9-40c1-ada5-0a556d836877"
      },
      "execution_count": null,
      "outputs": [
        {
          "output_type": "stream",
          "name": "stdout",
          "text": [
            "Membangun Query\n",
            "---------------\n",
            "Ketik yang anda cari: prodi fasilkom\n",
            "Theta: ['prodi', 'fasilkom']\n"
          ]
        }
      ]
    },
    {
      "cell_type": "code",
      "source": [
        "print(\"Dokumen yang sesuai dengan query\")\n",
        "print(\"--------------------------------\")\n",
        "for i in range(len(theta)):\n",
        "  print(f\"{theta[i]} (S {i+1}): {bag_of_word[theta[i]]}\")"
      ],
      "metadata": {
        "colab": {
          "base_uri": "https://localhost:8080/"
        },
        "id": "c600V0LpyXbc",
        "outputId": "1b88107e-4b20-4a7d-f4bb-2ed2e02de4d7"
      },
      "execution_count": null,
      "outputs": [
        {
          "output_type": "stream",
          "name": "stdout",
          "text": [
            "Dokumen yang sesuai dengan query\n",
            "--------------------------------\n",
            "prodi (S 1): {3, 4}\n",
            "fasilkom (S 2): {1, 3, 4}\n"
          ]
        }
      ]
    },
    {
      "cell_type": "markdown",
      "source": [
        "#Frekuensi Kata"
      ],
      "metadata": {
        "id": "VHEKocH9RXP9"
      }
    },
    {
      "cell_type": "code",
      "source": [
        "def countFrek(daftarKataUnik, dok):\n",
        "  dokFrek = {}\n",
        "  for term in daftarKataUnik:\n",
        "    dokFrek[term] = dok.count(term)\n",
        "  return dokFrek"
      ],
      "metadata": {
        "id": "9t6mhl6ew7Lq"
      },
      "execution_count": null,
      "outputs": []
    },
    {
      "cell_type": "markdown",
      "source": [
        "##Frekuensi Kata pada Dokumen"
      ],
      "metadata": {
        "id": "Dsoo8xDaqfeu"
      }
    },
    {
      "cell_type": "code",
      "source": [
        "daftarDokFrek = []\n",
        "for dok in daftarObj:\n",
        "  dokFrek = countFrek(daftarKataUnik, dok)\n",
        "  daftarDokFrek.append(dokFrek)\n",
        "\n",
        "daftarDokFrek"
      ],
      "metadata": {
        "colab": {
          "base_uri": "https://localhost:8080/"
        },
        "id": "XP-JGYAGRbMN",
        "outputId": "c606e5f8-ffff-4540-9468-b73795ca1cdb"
      },
      "execution_count": null,
      "outputs": [
        {
          "output_type": "execute_result",
          "data": {
            "text/plain": [
              "[{'prodi': 0,\n",
              "  'informasi': 0,\n",
              "  'fasilkom': 1,\n",
              "  'adalah': 1,\n",
              "  '30.000': 0,\n",
              "  'saat': 0,\n",
              "  'jember': 1,\n",
              "  'ini': 0,\n",
              "  'sistem': 0,\n",
              "  'pertama': 0,\n",
              "  'universitas': 1,\n",
              "  'mahasiswa': 2,\n",
              "  'memiliki': 0,\n",
              "  'tiga': 0,\n",
              "  'hebat': 1},\n",
              " {'prodi': 0,\n",
              "  'informasi': 0,\n",
              "  'fasilkom': 0,\n",
              "  'adalah': 0,\n",
              "  '30.000': 1,\n",
              "  'saat': 0,\n",
              "  'jember': 1,\n",
              "  'ini': 0,\n",
              "  'sistem': 0,\n",
              "  'pertama': 0,\n",
              "  'universitas': 1,\n",
              "  'mahasiswa': 1,\n",
              "  'memiliki': 1,\n",
              "  'tiga': 0,\n",
              "  'hebat': 0},\n",
              " {'prodi': 1,\n",
              "  'informasi': 0,\n",
              "  'fasilkom': 1,\n",
              "  'adalah': 0,\n",
              "  '30.000': 0,\n",
              "  'saat': 1,\n",
              "  'jember': 1,\n",
              "  'ini': 1,\n",
              "  'sistem': 0,\n",
              "  'pertama': 0,\n",
              "  'universitas': 1,\n",
              "  'mahasiswa': 0,\n",
              "  'memiliki': 1,\n",
              "  'tiga': 1,\n",
              "  'hebat': 0},\n",
              " {'prodi': 2,\n",
              "  'informasi': 1,\n",
              "  'fasilkom': 1,\n",
              "  'adalah': 1,\n",
              "  '30.000': 0,\n",
              "  'saat': 1,\n",
              "  'jember': 1,\n",
              "  'ini': 1,\n",
              "  'sistem': 1,\n",
              "  'pertama': 1,\n",
              "  'universitas': 1,\n",
              "  'mahasiswa': 0,\n",
              "  'memiliki': 0,\n",
              "  'tiga': 0,\n",
              "  'hebat': 0}]"
            ]
          },
          "metadata": {},
          "execution_count": 8
        }
      ]
    },
    {
      "cell_type": "markdown",
      "source": [
        "##Frekuensi Kata pada Query"
      ],
      "metadata": {
        "id": "_jSOQLOEqm3d"
      }
    },
    {
      "cell_type": "code",
      "source": [
        "queryFrek = countFrek(daftarKataUnik, theta)\n",
        "queryFrek"
      ],
      "metadata": {
        "colab": {
          "base_uri": "https://localhost:8080/"
        },
        "id": "BC06xVNpqq2M",
        "outputId": "178ae115-167e-4002-e34c-83ffa6bdf96f"
      },
      "execution_count": null,
      "outputs": [
        {
          "output_type": "execute_result",
          "data": {
            "text/plain": [
              "{'prodi': 1,\n",
              " 'informasi': 0,\n",
              " 'fasilkom': 1,\n",
              " 'adalah': 0,\n",
              " '30.000': 0,\n",
              " 'saat': 0,\n",
              " 'jember': 0,\n",
              " 'ini': 0,\n",
              " 'sistem': 0,\n",
              " 'pertama': 0,\n",
              " 'universitas': 0,\n",
              " 'mahasiswa': 0,\n",
              " 'memiliki': 0,\n",
              " 'tiga': 0,\n",
              " 'hebat': 0}"
            ]
          },
          "metadata": {},
          "execution_count": 9
        }
      ]
    },
    {
      "cell_type": "markdown",
      "source": [
        "# AND"
      ],
      "metadata": {
        "id": "hLImdFiTriQ6"
      }
    },
    {
      "cell_type": "code",
      "source": [
        "def retrievedObjectAND(bag_of_word, theta):\n",
        "  print('Retrieved object (R) dengan logika \"AND\"')\n",
        "  print(\"----------------------------------------\")\n",
        "  result = bag_of_word[theta[0]]\n",
        "\n",
        "  # Mencari irisan setiap kata dalam query\n",
        "  for i in range(1, len(theta)):\n",
        "    result = result.intersection(bag_of_word[theta[i]])\n",
        "\n",
        "  for i in result:\n",
        "    print(f\"Obj {i} : {daftarObj[i-1]}\")\n",
        "\n",
        "retrievedObjectAND(bag_of_word, theta)"
      ],
      "metadata": {
        "colab": {
          "base_uri": "https://localhost:8080/"
        },
        "id": "6T5D7W5cT9N5",
        "outputId": "8c3ef339-93f3-41fe-e9c9-aa2912d8b1eb"
      },
      "execution_count": null,
      "outputs": [
        {
          "output_type": "stream",
          "name": "stdout",
          "text": [
            "Retrieved object (R) dengan logika \"AND\"\n",
            "----------------------------------------\n",
            "Obj 3 : saat ini fasilkom universitas jember memiliki tiga prodi\n",
            "Obj 4 : prodi pertama fasilkom universitas jember saat ini adalah prodi sistem informasi\n"
          ]
        }
      ]
    },
    {
      "cell_type": "markdown",
      "source": [
        "# OR"
      ],
      "metadata": {
        "id": "qXoDr29002AE"
      }
    },
    {
      "cell_type": "code",
      "source": [
        "def retrievedObjectOR(bag_of_word, theta):\n",
        "  print('Retrieved object (R) dengan logika \"OR\"')\n",
        "  print(\"----------------------------------------\")\n",
        "  result = bag_of_word[theta[0]]\n",
        "\n",
        "  # Mencari gabungan setiap kata dalam query\n",
        "  for i in range(1, len(theta)):\n",
        "    result = result.union(bag_of_word[theta[i]])\n",
        "\n",
        "  for i in result:\n",
        "    print(f\"Obj {i} : {daftarObj[i-1]}\")\n",
        "\n",
        "retrievedObjectOR(bag_of_word, theta)"
      ],
      "metadata": {
        "colab": {
          "base_uri": "https://localhost:8080/"
        },
        "id": "PuxWG4eE09j6",
        "outputId": "79bc4d0d-51fc-4029-ac1c-3d2dbb2b5435"
      },
      "execution_count": null,
      "outputs": [
        {
          "output_type": "stream",
          "name": "stdout",
          "text": [
            "Retrieved object (R) dengan logika \"OR\"\n",
            "----------------------------------------\n",
            "Obj 1 : mahasiswa fasilkom universitas jember adalah mahasiswa hebat\n",
            "Obj 3 : saat ini fasilkom universitas jember memiliki tiga prodi\n",
            "Obj 4 : prodi pertama fasilkom universitas jember saat ini adalah prodi sistem informasi\n"
          ]
        }
      ]
    },
    {
      "cell_type": "markdown",
      "source": [
        "# NOT"
      ],
      "metadata": {
        "id": "BwWVrGLn1eUb"
      }
    },
    {
      "cell_type": "code",
      "source": [
        "def retrievedObjectNOT(bag_of_word, theta):\n",
        "  print('Retrieved object (R) dengan logika \"NOT\"')\n",
        "  print(\"----------------------------------------\")\n",
        "  result = bag_of_word[theta[0]]\n",
        "\n",
        "  # Mencari selisih setiap kata dalam query\n",
        "  for i in range(1, len(theta)):\n",
        "    result = result.symmetric_difference(bag_of_word[theta[i]])\n",
        "    # result = result.difference(bag_of_word[theta[i]])\n",
        "\n",
        "  for i in result:\n",
        "    print(f\"Obj {i} : {daftarObj[i-1]}\")\n",
        "\n",
        "retrievedObjectNOT(bag_of_word, theta)"
      ],
      "metadata": {
        "colab": {
          "base_uri": "https://localhost:8080/"
        },
        "id": "gRkah2Q11G50",
        "outputId": "3fdee7ab-835d-404b-bc0d-5eeeeca880b6"
      },
      "execution_count": null,
      "outputs": [
        {
          "output_type": "stream",
          "name": "stdout",
          "text": [
            "Retrieved object (R) dengan logika \"NOT\"\n",
            "----------------------------------------\n",
            "Obj 1 : mahasiswa fasilkom universitas jember adalah mahasiswa hebat\n"
          ]
        }
      ]
    },
    {
      "cell_type": "markdown",
      "source": [
        "#Sorting Relevansi\n",
        "\n",
        "Melakukan pengurutan pada hasil perhitungan dengan mengguanakan fungsi sorted(), dan hasilnya disimpan dalam variabel \"sortedResult\" dengan type list."
      ],
      "metadata": {
        "id": "JohOtP_2tYkM"
      }
    },
    {
      "cell_type": "code",
      "source": [
        "def sortRelevan(result, daftarObj):\n",
        "  sortedResult = sorted(result.items(), key=lambda x: x[1], reverse=True) #Mengurutkan hasil hitung\n",
        "\n",
        "  for i in sortedResult:  \n",
        "    print(f\"Dokumen {i[0]+1} : {i[1]}\") \n",
        "    print(daftarObj[i[0]], \"\\n\")\n",
        "\n",
        "  return sortedResult"
      ],
      "metadata": {
        "id": "wi0zBr_DtqTb"
      },
      "execution_count": null,
      "outputs": []
    },
    {
      "cell_type": "markdown",
      "source": [
        "#Koefisien Jaccard"
      ],
      "metadata": {
        "id": "HP1YzEIHjEV4"
      }
    },
    {
      "cell_type": "code",
      "source": [
        "def koefisienJaccard(theta, fitur, daftarObj):\n",
        "  jaccardResult = {}\n",
        "\n",
        "  for fiturIndex in range(len(daftarObj)): #perulangan berdasarkan jumlah objek\n",
        "    intersecResult = set(theta).intersection(set(fitur[fiturIndex])) # query irisan objek/dokumen ke-i\n",
        "    up = abs(len(intersecResult))\n",
        "\n",
        "    unionResult = set(theta).union(set(fitur[fiturIndex])) # query gabungan objek/dokumen ke-i\n",
        "    down = abs(len(unionResult))\n",
        "\n",
        "    skor = up/down\n",
        "    jaccardResult[fiturIndex] = skor\n",
        "\n",
        "  print(\"Scoring Document dengan Koefisien Jaccard\", \"\\n\")\n",
        "  return sortRelevan(jaccardResult, daftarObj)\n",
        "\n",
        "jaccardResult = koefisienJaccard(theta, fitur, daftarObj)"
      ],
      "metadata": {
        "id": "zh8LZiPq2HAa",
        "colab": {
          "base_uri": "https://localhost:8080/"
        },
        "outputId": "cc1a7ee4-8ea5-4b6e-bb8f-f392f2623403"
      },
      "execution_count": null,
      "outputs": [
        {
          "output_type": "stream",
          "name": "stdout",
          "text": [
            "Scoring Document dengan Koefisien Jaccard \n",
            "\n",
            "Objek 3 : 0.25\n",
            "saat ini fasilkom universitas jember memiliki tiga prodi \n",
            "\n",
            "Objek 4 : 0.2\n",
            "prodi pertama fasilkom universitas jember saat ini adalah prodi sistem informasi \n",
            "\n",
            "Objek 1 : 0.14285714285714285\n",
            "mahasiswa fasilkom universitas jember adalah mahasiswa hebat \n",
            "\n",
            "Objek 2 : 0.0\n",
            "universitas jember memiliki 30.000 mahasiswa \n",
            "\n"
          ]
        }
      ]
    },
    {
      "cell_type": "markdown",
      "source": [
        "#Koefisien Sørensen–Dice"
      ],
      "metadata": {
        "id": "xH8fs52FWwzH"
      }
    },
    {
      "cell_type": "code",
      "source": [
        "def koefisienSorensenDice(theta, fitur, daftarObj):\n",
        "  sorensenDiceResult = {}\n",
        "  for fiturIndex in range(len(daftarObj)): # perulangan berdasarkan jumlah objek\n",
        "    intersecResult = set(theta).intersection(set(fitur[fiturIndex])) # query irisan objek/dokumen ke-i\n",
        "    up = 2 * abs(len(intersecResult)) # perkalian antara hasil irisan dengan dua\n",
        "\n",
        "    down = abs(len(set(theta)) + len(set(fitur[fiturIndex]))) # penjumlahan jumlah kata query dengan jumlah kata fitur\n",
        "\n",
        "    skor = up/down\n",
        "    sorensenDiceResult[fiturIndex] = skor\n",
        "\n",
        "  print(\"Scoring Document dengan Koefisien Sørensen–Dice\", \"\\n\")\n",
        "  return sortRelevan(sorensenDiceResult, daftarObj)\n",
        "\n",
        "sorensenDiceResult = koefisienSorensenDice(theta, fitur, daftarObj)"
      ],
      "metadata": {
        "colab": {
          "base_uri": "https://localhost:8080/"
        },
        "id": "AohvNeNrW2w7",
        "outputId": "e5c3b057-556d-46ea-e45d-0368b9e24782"
      },
      "execution_count": null,
      "outputs": [
        {
          "output_type": "stream",
          "name": "stdout",
          "text": [
            "Scoring Document dengan Koefisien Sørensen–Dice \n",
            "\n",
            "Objek 3 : 0.4\n",
            "saat ini fasilkom universitas jember memiliki tiga prodi \n",
            "\n",
            "Objek 4 : 0.3333333333333333\n",
            "prodi pertama fasilkom universitas jember saat ini adalah prodi sistem informasi \n",
            "\n",
            "Objek 1 : 0.25\n",
            "mahasiswa fasilkom universitas jember adalah mahasiswa hebat \n",
            "\n",
            "Objek 2 : 0.0\n",
            "universitas jember memiliki 30.000 mahasiswa \n",
            "\n"
          ]
        }
      ]
    },
    {
      "cell_type": "markdown",
      "source": [
        "#Koefisien Overlap Similarity"
      ],
      "metadata": {
        "id": "J2Av6qI9Zyoi"
      }
    },
    {
      "cell_type": "code",
      "source": [
        "def koefisienOverlapSimilarity(theta, fitur, daftarObj):\n",
        "  overlapSimilarityResult = {}\n",
        "  for fiturIndex in range(len(daftarObj)): # perulangan berdasarkan jumlah objek\n",
        "    intersecResult = set(theta).intersection(set(fitur[fiturIndex])) # query irisan objek/dokumen ke-i\n",
        "    up = abs(len(intersecResult))\n",
        "\n",
        "    queryLength = len(set(theta))\n",
        "    fiturLength = len(set(fitur[fiturIndex]))\n",
        "    down = min(abs(queryLength), abs(fiturLength)) # mencari nilai terkecil antara panjang query dan panjang fitur\n",
        "\n",
        "    skor = up/down\n",
        "    overlapSimilarityResult[fiturIndex] = skor\n",
        "\n",
        "  print(\"Scoring Document dengan Koefisien Overlap Similarity\", \"\\n\")\n",
        "  return sortRelevan(overlapSimilarityResult, daftarObj)\n",
        "\n",
        "overlapSimilarityResult = koefisienOverlapSimilarity(theta, fitur, daftarObj)"
      ],
      "metadata": {
        "colab": {
          "base_uri": "https://localhost:8080/"
        },
        "id": "YGJcKaZxZFT3",
        "outputId": "660b8cd1-ae1b-4d50-987a-a71cb41cf993"
      },
      "execution_count": null,
      "outputs": [
        {
          "output_type": "stream",
          "name": "stdout",
          "text": [
            "Scoring Document dengan Koefisien Overlap Similarity \n",
            "\n",
            "Objek 3 : 1.0\n",
            "saat ini fasilkom universitas jember memiliki tiga prodi \n",
            "\n",
            "Objek 4 : 1.0\n",
            "prodi pertama fasilkom universitas jember saat ini adalah prodi sistem informasi \n",
            "\n",
            "Objek 1 : 0.5\n",
            "mahasiswa fasilkom universitas jember adalah mahasiswa hebat \n",
            "\n",
            "Objek 2 : 0.0\n",
            "universitas jember memiliki 30.000 mahasiswa \n",
            "\n"
          ]
        }
      ]
    },
    {
      "cell_type": "markdown",
      "source": [
        "#Rangking Modul"
      ],
      "metadata": {
        "id": "Ffw9Vc_acyod"
      }
    },
    {
      "cell_type": "code",
      "source": [
        "print(f\"Rangking Modul dengan query '{query}' \\n\")\n",
        "for i in range(len(daftarObj)):\n",
        "  print(f\"Rank {i+1}\")\n",
        "  print(f\"Jaccard \\t\\t: Obj {jaccardResult[i][0]} : {jaccardResult[i][1]}\")\n",
        "  print(f\"Sørensen–Dice \\t\\t: Obj {sorensenDiceResult[i][0]} : {sorensenDiceResult[i][1]}\")\n",
        "  print(f\"Overlap Similarity \\t: Obj {overlapSimilarityResult[i][0]} : {overlapSimilarityResult[i][1]} \\n\")"
      ],
      "metadata": {
        "colab": {
          "base_uri": "https://localhost:8080/"
        },
        "id": "rxyVxFZYZF47",
        "outputId": "1bc62d25-503b-49c6-fea2-737dfdeed227"
      },
      "execution_count": null,
      "outputs": [
        {
          "output_type": "stream",
          "name": "stdout",
          "text": [
            "Rangking Modul dengan query 'prodi fasilkom' \n",
            "\n",
            "Rank 1\n",
            "Jaccard \t\t: Obj 2 : 0.25\n",
            "Sørensen–Dice \t\t: Obj 2 : 0.4\n",
            "Overlap Similarity \t: Obj 2 : 1.0 \n",
            "\n",
            "Rank 2\n",
            "Jaccard \t\t: Obj 3 : 0.2\n",
            "Sørensen–Dice \t\t: Obj 3 : 0.3333333333333333\n",
            "Overlap Similarity \t: Obj 3 : 1.0 \n",
            "\n",
            "Rank 3\n",
            "Jaccard \t\t: Obj 0 : 0.14285714285714285\n",
            "Sørensen–Dice \t\t: Obj 0 : 0.25\n",
            "Overlap Similarity \t: Obj 0 : 0.5 \n",
            "\n",
            "Rank 4\n",
            "Jaccard \t\t: Obj 1 : 0.0\n",
            "Sørensen–Dice \t\t: Obj 1 : 0.0\n",
            "Overlap Similarity \t: Obj 1 : 0.0 \n",
            "\n"
          ]
        }
      ]
    },
    {
      "cell_type": "markdown",
      "source": [
        "#Cosine Similarity"
      ],
      "metadata": {
        "id": "ptghgLrtUSNz"
      }
    },
    {
      "cell_type": "markdown",
      "source": [
        "##Cosine Similarity dengan Query"
      ],
      "metadata": {
        "id": "XD9YUfvI1R5Q"
      }
    },
    {
      "cell_type": "code",
      "source": [
        "import math\n",
        "\n",
        "def cosine_similiarity(daftarDokFrek, daftarKataUnik, queryFrek, daftarObj):\n",
        "\n",
        "  daftarCosSimilarity = {}\n",
        "  countDok = 0\n",
        "\n",
        "  for dokFrek in daftarDokFrek:\n",
        "    pembilang = 0\n",
        "    kwadrat1 = 0\n",
        "    kwadrat2 = 0\n",
        "\n",
        "    for term in daftarKataUnik:\n",
        "      kwadrat1 += dokFrek[term] ** 2\n",
        "      kwadrat2 += queryFrek[term] ** 2\n",
        "      pembilang += (dokFrek[term] * queryFrek[term])\n",
        "\n",
        "    penyebut = math.sqrt(kwadrat1 * kwadrat2)\n",
        "    cosSimiliraty = pembilang / penyebut\n",
        "    arcCos = math.acos(cosSimiliraty)\n",
        "    daftarCosSimilarity[countDok] = cosSimiliraty\n",
        "    countDok += 1\n",
        "\n",
        "  return sortRelevan(daftarCosSimilarity, daftarObj)\n",
        "\n",
        "print(f'Cosine Similarity dokumen dengan query: \"{query}\"\\n')\n",
        "sortedCosSimilarity = cosine_similiarity(daftarDokFrek, daftarKataUnik, queryFrek, daftarObj)\n",
        "\n",
        "# tugas eric hitung manual"
      ],
      "metadata": {
        "colab": {
          "base_uri": "https://localhost:8080/"
        },
        "id": "bOfCH9t41eYi",
        "outputId": "82c03c04-1fb8-4666-bc55-c5fa4841ac42"
      },
      "execution_count": null,
      "outputs": [
        {
          "output_type": "stream",
          "name": "stdout",
          "text": [
            "Cosine Similarity dokumen dengan query: \"prodi fasilkom\"\n",
            "\n",
            "Dokumen 4 : 0.5883484054145521\n",
            "prodi pertama fasilkom universitas jember saat ini adalah prodi sistem informasi \n",
            "\n",
            "Dokumen 3 : 0.5\n",
            "saat ini fasilkom universitas jember memiliki tiga prodi \n",
            "\n",
            "Dokumen 1 : 0.23570226039551587\n",
            "mahasiswa fasilkom universitas jember adalah mahasiswa hebat \n",
            "\n",
            "Dokumen 2 : 0.0\n",
            "universitas jember memiliki 30.000 mahasiswa \n",
            "\n"
          ]
        }
      ]
    },
    {
      "cell_type": "markdown",
      "source": [
        "##Cosine Similarity antar dokumen"
      ],
      "metadata": {
        "id": "-mzEP71P1YWw"
      }
    },
    {
      "cell_type": "code",
      "source": [
        "import math\n",
        "\n",
        "def cosine_similiarity_documents(daftarDokFrek, daftarKataUnik):\n",
        "\n",
        "  daftarCosSimilarity = {}\n",
        "\n",
        "  for dokFrekIndex1 in range(len(daftarDokFrek)):\n",
        "    for dokFrekIndex2 in range(dokFrekIndex1+1, len(daftarDokFrek)):\n",
        "      pembilang = 0\n",
        "      kwadrat1 = 0\n",
        "      kwadrat2 = 0\n",
        "\n",
        "      for term in daftarKataUnik:\n",
        "        kwadrat1 += daftarDokFrek[dokFrekIndex1][term] ** 2\n",
        "        kwadrat2 += daftarDokFrek[dokFrekIndex2][term] ** 2\n",
        "        pembilang += (daftarDokFrek[dokFrekIndex1][term] * daftarDokFrek[dokFrekIndex2][term])\n",
        "\n",
        "      penyebut = math.sqrt(kwadrat1 * kwadrat2)\n",
        "      cosSimiliraty = pembilang / penyebut\n",
        "      arcCos = math.acos(cosSimiliraty)\n",
        "      daftarCosSimilarity[f\"Dokumen-{dokFrekIndex1+1} dengan Dokumen-{dokFrekIndex2+1}\"] = cosSimiliraty\n",
        "\n",
        "  return daftarCosSimilarity\n",
        "\n",
        "cosSimilarityDocuments = cosine_similiarity_documents(daftarDokFrek, daftarKataUnik)\n",
        "\n",
        "print(f'Cosine Similarity antar dokumen\\n')\n",
        "for key, value in cosSimilarityDocuments.items():\n",
        "  print(key)\n",
        "  print(value)\n",
        "  print()\n",
        "\n",
        "# tugas eric hitung manual"
      ],
      "metadata": {
        "id": "c-F6cINVUXjs",
        "colab": {
          "base_uri": "https://localhost:8080/"
        },
        "outputId": "2bc74f56-e8d6-460d-c519-695fd4e5834f"
      },
      "execution_count": null,
      "outputs": [
        {
          "output_type": "stream",
          "name": "stdout",
          "text": [
            "Cosine Similarity antar dokumen\n",
            "\n",
            "Dokumen-1 dengan Dokumen-2\n",
            "0.5962847939999439\n",
            "\n",
            "Dokumen-1 dengan Dokumen-3\n",
            "0.3535533905932738\n",
            "\n",
            "Dokumen-1 dengan Dokumen-4\n",
            "0.3698001308168194\n",
            "\n",
            "Dokumen-2 dengan Dokumen-3\n",
            "0.4743416490252569\n",
            "\n",
            "Dokumen-2 dengan Dokumen-4\n",
            "0.24806946917841693\n",
            "\n",
            "Dokumen-3 dengan Dokumen-4\n",
            "0.6864064729836442\n",
            "\n"
          ]
        }
      ]
    },
    {
      "cell_type": "markdown",
      "source": [
        "##Contoh dokumen 1 dan 2"
      ],
      "metadata": {
        "id": "_Zhy1AuKXWVJ"
      }
    },
    {
      "cell_type": "code",
      "source": [
        "import math\n",
        "\n",
        "# dokFrek1 = {'a': 3,\n",
        "#             'b': 6}\n",
        "# dokFrek2 = {'a': 4,\n",
        "#             'b': 1.5}\n",
        "dokFrek1 = daftarDokFrek[0]\n",
        "dokFrek2 = daftarDokFrek[1]\n",
        "\n",
        "pembilang = 0\n",
        "kwadrat1 = 0\n",
        "kwadrat2 = 0\n",
        "for term in dokFrek1:\n",
        "  kwadrat1 += dokFrek1[term] ** 2\n",
        "  kwadrat2 += dokFrek2[term] ** 2\n",
        "  pembilang += (dokFrek1[term] * dokFrek2[term])\n",
        "\n",
        "penyebut = math.sqrt(kwadrat1 * kwadrat2)\n",
        "cosSimiliraty = pembilang / penyebut\n",
        "arcCos = math.acos(cosSimiliraty)\n",
        "cosSimiliraty"
      ],
      "metadata": {
        "colab": {
          "base_uri": "https://localhost:8080/"
        },
        "id": "pmHkf0zYXZq8",
        "outputId": "9ca75a54-5b9f-42ee-d1e6-fb8edd4ad5dd"
      },
      "execution_count": null,
      "outputs": [
        {
          "output_type": "execute_result",
          "data": {
            "text/plain": [
              "0.5962847939999439"
            ]
          },
          "metadata": {},
          "execution_count": 20
        }
      ]
    }
  ]
}